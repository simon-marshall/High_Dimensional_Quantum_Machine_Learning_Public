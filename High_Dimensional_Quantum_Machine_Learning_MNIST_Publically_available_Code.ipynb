{
  "cells": [
    {
      "cell_type": "markdown",
      "metadata": {
        "id": "uUKPTQjKa9id"
      },
      "source": [
        "# Dependencies\n",
        "We need to install tensorflow 2.7.0 to be compatible with quantum tensorflow"
      ]
    },
    {
      "cell_type": "code",
      "execution_count": 1,
      "metadata": {
        "colab": {
          "base_uri": "https://localhost:8080/"
        },
        "id": "pT4Vg_ZMYwB-",
        "outputId": "55bbbf1a-a183-4443-9a6c-7e44da5daeb3"
      },
      "outputs": [],
      "source": [
        "#!pip install -q tensorflow==2.7.0\n",
        "\n",
        "#!pip install -q tensorflow-quantum"
      ]
    },
    {
      "cell_type": "code",
      "execution_count": 2,
      "metadata": {
        "colab": {
          "base_uri": "https://localhost:8080/",
          "height": 432
        },
        "id": "ytpovsY_a86S",
        "outputId": "a0c32528-a5b7-4625-9a5b-0b35b35352bc"
      },
      "outputs": [
        {
          "name": "stderr",
          "output_type": "stream",
          "text": [
            "2022-11-30 13:51:34.257509: W tensorflow/stream_executor/platform/default/dso_loader.cc:64] Could not load dynamic library 'libcudart.so.11.0'; dlerror: libcudart.so.11.0: cannot open shared object file: No such file or directory\n",
            "2022-11-30 13:51:34.257559: I tensorflow/stream_executor/cuda/cudart_stub.cc:29] Ignore above cudart dlerror if you do not have a GPU set up on your machine.\n",
            "2022-11-30 13:51:42.224704: W tensorflow/stream_executor/platform/default/dso_loader.cc:64] Could not load dynamic library 'libcuda.so.1'; dlerror: libcuda.so.1: cannot open shared object file: No such file or directory\n",
            "2022-11-30 13:51:42.224740: W tensorflow/stream_executor/cuda/cuda_driver.cc:269] failed call to cuInit: UNKNOWN ERROR (303)\n",
            "2022-11-30 13:51:42.224763: I tensorflow/stream_executor/cuda/cuda_diagnostics.cc:156] kernel driver does not appear to be running on this host (marshalls-VB): /proc/driver/nvidia/version does not exist\n",
            "2022-11-30 13:51:42.225171: I tensorflow/core/platform/cpu_feature_guard.cc:151] This TensorFlow binary is optimized with oneAPI Deep Neural Network Library (oneDNN) to use the following CPU instructions in performance-critical operations:  AVX2\n",
            "To enable them in other operations, rebuild TensorFlow with the appropriate compiler flags.\n"
          ]
        }
      ],
      "source": [
        "import tensorflow as tf\n",
        "import tensorflow_quantum as tfq\n",
        "import cirq\n",
        "import sympy\n",
        "import numpy as np\n",
        "from collections import deque\n",
        "from random import sample\n",
        "from functools import reduce\n",
        "import sys\n",
        "\n",
        "# visualization tools\n",
        "%matplotlib inline\n",
        "import matplotlib.pyplot as plt\n",
        "from cirq.contrib.svg import SVGCircuit\n"
      ]
    },
    {
      "cell_type": "markdown",
      "metadata": {},
      "source": [
        "This array specifies hyper-parameters of the training run.\n",
        "For the paper these are set in the command line, but for this notebook we hard code them to some demonstration values."
      ]
    },
    {
      "cell_type": "code",
      "execution_count": 3,
      "metadata": {
        "id": "-6NaX5EXvwyq"
      },
      "outputs": [],
      "source": [
        "#L,k, number of epochs of training, number of training data\n",
        "L = 1\n",
        "k = 8#changing this will not change the training run, yet!\n",
        "epochs = 100 #changing this will not change the training run, yet!\n",
        "n_training = 100 #changing this will not change the training run, yet!\n",
        "random_seed = 69 #changing this will not change the training run, yet!\n",
        "\n",
        "data_augmentation = 100 # repititions of the data set\n",
        "numb_of_repeats = 1 # number of times the training is repeated, used to average with a new random init\n",
        "\n",
        "\n",
        "arguments_passed= [L, epochs, numb_of_repeats]"
      ]
    },
    {
      "cell_type": "markdown",
      "metadata": {
        "id": "plRPeDe6bHZW"
      },
      "source": [
        "# Define model\n",
        "\n",
        "This section will define the partitioned model that we will use.\n",
        "\n",
        "The first 3 cells define \"circuit generation\", generating the ansatz we will use"
      ]
    },
    {
      "cell_type": "markdown",
      "metadata": {
        "id": "PU9TRsmybQNZ"
      },
      "source": [
        "## circuit generation\n",
        "\n",
        "We will borrow heavily from the code of Sofiene and Andrea\n",
        "\n",
        "We define a circuit by specifying the number of layers it needs to have, adding a controlled X on the first qubit, and a controlled Z on the last qubit, for every layer"
      ]
    },
    {
      "cell_type": "code",
      "execution_count": 4,
      "metadata": {
        "id": "Pd2gCmvzd6EM"
      },
      "outputs": [],
      "source": [
        "def one_qubit_rotation(qubit, symbols):\n",
        "    \"\"\"\n",
        "    Returns a Cirq circuit that applies a rotation of the bloch sphere about the X,\n",
        "    Y and Z axis, specified by the values in `symbols`.\n",
        "    \"\"\"\n",
        "    yield cirq.rx(symbols[0])(qubit)\n",
        "    yield cirq.ry(symbols[1])(qubit)\n",
        "    yield cirq.rz(symbols[2])(qubit)\n",
        "\n",
        "def entangling_layer(qubits, part_of_hadamard_test=True):\n",
        "    \"\"\"\n",
        "    Returns a Cirq circuit that applies a layer of entangling gates (arranged in a circular topology).\n",
        "    \"\"\"\n",
        "    if len(qubits) == 2:\n",
        "        yield cirq.Circuit(cirq.CZ(qubits[0], qubits[1]))\n",
        "    else:\n",
        "        yield cirq.Circuit(cirq.CZ(qubits[i], qubits[(i + 1) % len(qubits)]) for i in range(len(qubits)))\n",
        "\n",
        "def Cone_qubit_rotation(control, qubit, symbols):\n",
        "    \"\"\"\n",
        "    Returns a Cirq circuit that applies a ortation of the bloch sphere about the X,\n",
        "    Y and Z axis, specified by the values in `symbols`. \n",
        "\n",
        "    We now use a controlled rotation, where the control qubit is the first qubit in the circuit. This is useful for the hadamard test.\n",
        "    \"\"\"\n",
        "    yield cirq.rx(symbols[0])(qubit).controlled_by(control)\n",
        "    yield cirq.ry(symbols[1])(qubit).controlled_by(control)\n",
        "    yield cirq.rz(symbols[2])(qubit).controlled_by(control)"
      ]
    },
    {
      "cell_type": "markdown",
      "metadata": {},
      "source": [
        "The following function creates the full circuit with a control on the first qubit"
      ]
    },
    {
      "cell_type": "code",
      "execution_count": 5,
      "metadata": {
        "id": "AU_nWMf-e3lA"
      },
      "outputs": [],
      "source": [
        "def gen_cont_circ(qubits,n_layers, real=True):\n",
        "  \"\"\"gens a controlled circuit, but half is controlled by the last qubit to replicate off diag terms\"\"\"\n",
        "  #circuit width\n",
        "  n = len(qubits) - 1\n",
        "  control_qubit = qubits[n] #last qubit is the control\n",
        "  #generate weight set, 2x normal because double depth\n",
        "  params = sympy.symbols(f'theta(0:{3*(n_layers+1)*n})')\n",
        "  params = np.asarray(params).reshape(((n_layers + 1), n, 3))\n",
        "\n",
        "  bravyi_params = sympy.symbols(f'zeta(0:{2*2*(n_layers)})')\n",
        "  bravyi_params = np.asarray(bravyi_params).reshape((2*n_layers, 2))\n",
        "\n",
        "  # Sympy symbols for encoding angles\n",
        "  inputs = sympy.symbols(f'x(0:{n})'+f'_(0:{n_layers})')\n",
        "  inputs = np.asarray(inputs).reshape((n_layers, n))\n",
        "\n",
        "  #apply first H\n",
        "  circuit=cirq.Circuit(cirq.H(control_qubit))\n",
        "  if not real: circuit+= cirq.S(control_qubit)\n",
        "\n",
        "  #make controlled circuit 1:\n",
        "  #circuit = cirq.Circuit()\n",
        "  for l in range(n_layers):\n",
        "    # Variational layer\n",
        "    circuit += cirq.Circuit(one_qubit_rotation(q, params[l, i]) for i, q in enumerate(qubits[:-1]))\n",
        "    circuit += entangling_layer(qubits[:-1])\n",
        "    #bravyi ghost encoding things\n",
        "    circuit += cirq.ZPowGate(exponent = bravyi_params[l, 0], global_shift=0)(qubits[0  ]).controlled_by(control_qubit) #the x or target qubit (on the first qubit)\n",
        "    circuit += cirq.ZPowGate(exponent = bravyi_params[l, 1], global_shift=0)(qubits[n-1]).controlled_by(control_qubit)#The z or control qubit (goes on the last qubit)\n",
        "    #need to swap which circuit we're applying (apply the 1 circuit)\n",
        "    circuit+=cirq.Circuit(cirq.X(control_qubit))\n",
        "    #other bravyi ghost encoding things\n",
        "    circuit += cirq.ZPowGate(exponent = bravyi_params[l+n_layers, 0], global_shift=0)(qubits[ 0 ]).controlled_by(control_qubit)#The x or target qubit (on the first qubit)\n",
        "    circuit += cirq.ZPowGate(exponent = bravyi_params[l+n_layers, 1], global_shift=0)(qubits[n-1]).controlled_by(control_qubit)#The z or control qubit (goes on the last qubit)\n",
        "    #need to swap back\n",
        "    circuit+=cirq.Circuit(cirq.X(control_qubit))\n",
        "\n",
        "    # Encoding layer\n",
        "    circuit += cirq.Circuit(cirq.rx(inputs[l, i])(q) for i, q in enumerate(qubits[:-1]))\n",
        "\n",
        "  circuit += cirq.Circuit(one_qubit_rotation(q, params[n_layers, i]) for i,q in enumerate(qubits[:-1]))\n",
        "\n",
        "\n",
        "  #reinvert and apply 2nd H gate\n",
        "  #circuit+=cirq.Circuit(cirq.X(control_qubit))\n",
        "  circuit+=cirq.Circuit(cirq.H(control_qubit))\n",
        "  if not real: circuit+= cirq.S(control_qubit)\n",
        "  return circuit, list(bravyi_params.flat),list(params.flat), list(inputs.flat)"
      ]
    },
    {
      "cell_type": "code",
      "execution_count": 6,
      "metadata": {
        "colab": {
          "base_uri": "https://localhost:8080/"
        },
        "id": "Td6W1KNwgRKC",
        "outputId": "f7ef05ae-e33d-4d38-8e77-4dccd6879b14"
      },
      "outputs": [
        {
          "name": "stderr",
          "output_type": "stream",
          "text": [
            "findfont: Font family ['Arial'] not found. Falling back to DejaVu Sans.\n"
          ]
        },
        {
          "data": {
            "image/svg+xml": "<svg xmlns=\"http://www.w3.org/2000/svg\" width=\"5151.07671875\" height=\"550.0\"><line x1=\"39.21248046875\" x2=\"5121.07671875\" y1=\"25.0\" y2=\"25.0\" stroke=\"#1967d2\" stroke-width=\"1\" /><line x1=\"39.21248046875\" x2=\"5121.07671875\" y1=\"75.0\" y2=\"75.0\" stroke=\"#1967d2\" stroke-width=\"1\" /><line x1=\"39.21248046875\" x2=\"5121.07671875\" y1=\"125.0\" y2=\"125.0\" stroke=\"#1967d2\" stroke-width=\"1\" /><line x1=\"39.21248046875\" x2=\"5121.07671875\" y1=\"175.0\" y2=\"175.0\" stroke=\"#1967d2\" stroke-width=\"1\" /><line x1=\"39.21248046875\" x2=\"5121.07671875\" y1=\"225.0\" y2=\"225.0\" stroke=\"#1967d2\" stroke-width=\"1\" /><line x1=\"39.21248046875\" x2=\"5121.07671875\" y1=\"275.0\" y2=\"275.0\" stroke=\"#1967d2\" stroke-width=\"1\" /><line x1=\"39.21248046875\" x2=\"5121.07671875\" y1=\"325.0\" y2=\"325.0\" stroke=\"#1967d2\" stroke-width=\"1\" /><line x1=\"39.21248046875\" x2=\"5121.07671875\" y1=\"375.0\" y2=\"375.0\" stroke=\"#1967d2\" stroke-width=\"1\" /><line x1=\"39.21248046875\" x2=\"5121.07671875\" y1=\"425.0\" y2=\"425.0\" stroke=\"#1967d2\" stroke-width=\"1\" /><line x1=\"39.21248046875\" x2=\"5121.07671875\" y1=\"475.0\" y2=\"475.0\" stroke=\"#1967d2\" stroke-width=\"1\" /><line x1=\"39.21248046875\" x2=\"5121.07671875\" y1=\"525.0\" y2=\"525.0\" stroke=\"#1967d2\" stroke-width=\"1\" /><line x1=\"500.37339843750004\" x2=\"500.37339843750004\" y1=\"25.0\" y2=\"75.0\" stroke=\"black\" stroke-width=\"3\" /><line x1=\"560.3733984375001\" x2=\"560.3733984375001\" y1=\"75.0\" y2=\"125.0\" stroke=\"black\" stroke-width=\"3\" /><line x1=\"620.3733984375001\" x2=\"620.3733984375001\" y1=\"125.0\" y2=\"175.0\" stroke=\"black\" stroke-width=\"3\" /><line x1=\"680.3733984375001\" x2=\"680.3733984375001\" y1=\"175.0\" y2=\"225.0\" stroke=\"black\" stroke-width=\"3\" /><line x1=\"740.3733984375001\" x2=\"740.3733984375001\" y1=\"225.0\" y2=\"275.0\" stroke=\"black\" stroke-width=\"3\" /><line x1=\"800.3733984375001\" x2=\"800.3733984375001\" y1=\"275.0\" y2=\"325.0\" stroke=\"black\" stroke-width=\"3\" /><line x1=\"860.3733984375001\" x2=\"860.3733984375001\" y1=\"325.0\" y2=\"375.0\" stroke=\"black\" stroke-width=\"3\" /><line x1=\"920.3733984375001\" x2=\"920.3733984375001\" y1=\"375.0\" y2=\"425.0\" stroke=\"black\" stroke-width=\"3\" /><line x1=\"980.3733984375001\" x2=\"980.3733984375001\" y1=\"425.0\" y2=\"475.0\" stroke=\"black\" stroke-width=\"3\" /><line x1=\"1040.3733984375\" x2=\"1040.3733984375\" y1=\"25.0\" y2=\"475.0\" stroke=\"black\" stroke-width=\"3\" /><line x1=\"1116.78111328125\" x2=\"1116.78111328125\" y1=\"25.0\" y2=\"525.0\" stroke=\"black\" stroke-width=\"3\" /><line x1=\"1209.4149804687502\" x2=\"1209.4149804687502\" y1=\"475.0\" y2=\"525.0\" stroke=\"black\" stroke-width=\"3\" /><line x1=\"1362.07291015625\" x2=\"1362.07291015625\" y1=\"25.0\" y2=\"525.0\" stroke=\"black\" stroke-width=\"3\" /><line x1=\"1454.7789648437501\" x2=\"1454.7789648437501\" y1=\"475.0\" y2=\"525.0\" stroke=\"black\" stroke-width=\"3\" /><line x1=\"2012.4612109375003\" x2=\"2012.4612109375003\" y1=\"25.0\" y2=\"75.0\" stroke=\"black\" stroke-width=\"3\" /><line x1=\"2072.4612109375003\" x2=\"2072.4612109375003\" y1=\"75.0\" y2=\"125.0\" stroke=\"black\" stroke-width=\"3\" /><line x1=\"2132.4612109375003\" x2=\"2132.4612109375003\" y1=\"125.0\" y2=\"175.0\" stroke=\"black\" stroke-width=\"3\" /><line x1=\"2192.4612109375003\" x2=\"2192.4612109375003\" y1=\"175.0\" y2=\"225.0\" stroke=\"black\" stroke-width=\"3\" /><line x1=\"2252.4612109375003\" x2=\"2252.4612109375003\" y1=\"225.0\" y2=\"275.0\" stroke=\"black\" stroke-width=\"3\" /><line x1=\"2312.4612109375003\" x2=\"2312.4612109375003\" y1=\"275.0\" y2=\"325.0\" stroke=\"black\" stroke-width=\"3\" /><line x1=\"2372.4612109375003\" x2=\"2372.4612109375003\" y1=\"325.0\" y2=\"375.0\" stroke=\"black\" stroke-width=\"3\" /><line x1=\"2432.4612109375003\" x2=\"2432.4612109375003\" y1=\"375.0\" y2=\"425.0\" stroke=\"black\" stroke-width=\"3\" /><line x1=\"2492.4612109375003\" x2=\"2492.4612109375003\" y1=\"425.0\" y2=\"475.0\" stroke=\"black\" stroke-width=\"3\" /><line x1=\"2552.4612109375003\" x2=\"2552.4612109375003\" y1=\"25.0\" y2=\"475.0\" stroke=\"black\" stroke-width=\"3\" /><line x1=\"2628.6326757812503\" x2=\"2628.6326757812503\" y1=\"25.0\" y2=\"525.0\" stroke=\"black\" stroke-width=\"3\" /><line x1=\"2721.1156054687503\" x2=\"2721.1156054687503\" y1=\"475.0\" y2=\"525.0\" stroke=\"black\" stroke-width=\"3\" /><line x1=\"2873.8205664062502\" x2=\"2873.8205664062502\" y1=\"25.0\" y2=\"525.0\" stroke=\"black\" stroke-width=\"3\" /><line x1=\"2966.59443359375\" x2=\"2966.59443359375\" y1=\"475.0\" y2=\"525.0\" stroke=\"black\" stroke-width=\"3\" /><line x1=\"3524.3827734375004\" x2=\"3524.3827734375004\" y1=\"25.0\" y2=\"75.0\" stroke=\"black\" stroke-width=\"3\" /><line x1=\"3584.3827734375004\" x2=\"3584.3827734375004\" y1=\"75.0\" y2=\"125.0\" stroke=\"black\" stroke-width=\"3\" /><line x1=\"3644.3827734375004\" x2=\"3644.3827734375004\" y1=\"125.0\" y2=\"175.0\" stroke=\"black\" stroke-width=\"3\" /><line x1=\"3704.3827734375004\" x2=\"3704.3827734375004\" y1=\"175.0\" y2=\"225.0\" stroke=\"black\" stroke-width=\"3\" /><line x1=\"3764.3827734375004\" x2=\"3764.3827734375004\" y1=\"225.0\" y2=\"275.0\" stroke=\"black\" stroke-width=\"3\" /><line x1=\"3824.3827734375004\" x2=\"3824.3827734375004\" y1=\"275.0\" y2=\"325.0\" stroke=\"black\" stroke-width=\"3\" /><line x1=\"3884.3827734375004\" x2=\"3884.3827734375004\" y1=\"325.0\" y2=\"375.0\" stroke=\"black\" stroke-width=\"3\" /><line x1=\"3944.3827734375004\" x2=\"3944.3827734375004\" y1=\"375.0\" y2=\"425.0\" stroke=\"black\" stroke-width=\"3\" /><line x1=\"4004.3827734375004\" x2=\"4004.3827734375004\" y1=\"425.0\" y2=\"475.0\" stroke=\"black\" stroke-width=\"3\" /><line x1=\"4064.3827734375004\" x2=\"4064.3827734375004\" y1=\"25.0\" y2=\"475.0\" stroke=\"black\" stroke-width=\"3\" /><line x1=\"4140.862675781251\" x2=\"4140.862675781251\" y1=\"25.0\" y2=\"525.0\" stroke=\"black\" stroke-width=\"3\" /><line x1=\"4233.603730468751\" x2=\"4233.603730468751\" y1=\"475.0\" y2=\"525.0\" stroke=\"black\" stroke-width=\"3\" /><line x1=\"4390.726210937501\" x2=\"4390.726210937501\" y1=\"25.0\" y2=\"525.0\" stroke=\"black\" stroke-width=\"3\" /><line x1=\"4492.267304687501\" x2=\"4492.267304687501\" y1=\"475.0\" y2=\"525.0\" stroke=\"black\" stroke-width=\"3\" /><rect x=\"10.0\" y=\"5.0\" width=\"58.4249609375\" height=\"40\" stroke=\"black\" fill=\"white\" stroke-width=\"0\" /><text x=\"39.21248046875\" y=\"25.0\" dominant-baseline=\"middle\" text-anchor=\"middle\" font-size=\"14px\" font-family=\"Arial\">(0, 0): </text><rect x=\"10.0\" y=\"55.0\" width=\"58.4249609375\" height=\"40\" stroke=\"black\" fill=\"white\" stroke-width=\"0\" /><text x=\"39.21248046875\" y=\"75.0\" dominant-baseline=\"middle\" text-anchor=\"middle\" font-size=\"14px\" font-family=\"Arial\">(0, 1): </text><rect x=\"10.0\" y=\"105.0\" width=\"58.4249609375\" height=\"40\" stroke=\"black\" fill=\"white\" stroke-width=\"0\" /><text x=\"39.21248046875\" y=\"125.0\" dominant-baseline=\"middle\" text-anchor=\"middle\" font-size=\"14px\" font-family=\"Arial\">(0, 2): </text><rect x=\"10.0\" y=\"155.0\" width=\"58.4249609375\" height=\"40\" stroke=\"black\" fill=\"white\" stroke-width=\"0\" /><text x=\"39.21248046875\" y=\"175.0\" dominant-baseline=\"middle\" text-anchor=\"middle\" font-size=\"14px\" font-family=\"Arial\">(0, 3): </text><rect x=\"10.0\" y=\"205.0\" width=\"58.4249609375\" height=\"40\" stroke=\"black\" fill=\"white\" stroke-width=\"0\" /><text x=\"39.21248046875\" y=\"225.0\" dominant-baseline=\"middle\" text-anchor=\"middle\" font-size=\"14px\" font-family=\"Arial\">(0, 4): </text><rect x=\"10.0\" y=\"255.0\" width=\"58.4249609375\" height=\"40\" stroke=\"black\" fill=\"white\" stroke-width=\"0\" /><text x=\"39.21248046875\" y=\"275.0\" dominant-baseline=\"middle\" text-anchor=\"middle\" font-size=\"14px\" font-family=\"Arial\">(0, 5): </text><rect x=\"10.0\" y=\"305.0\" width=\"58.4249609375\" height=\"40\" stroke=\"black\" fill=\"white\" stroke-width=\"0\" /><text x=\"39.21248046875\" y=\"325.0\" dominant-baseline=\"middle\" text-anchor=\"middle\" font-size=\"14px\" font-family=\"Arial\">(0, 6): </text><rect x=\"10.0\" y=\"355.0\" width=\"58.4249609375\" height=\"40\" stroke=\"black\" fill=\"white\" stroke-width=\"0\" /><text x=\"39.21248046875\" y=\"375.0\" dominant-baseline=\"middle\" text-anchor=\"middle\" font-size=\"14px\" font-family=\"Arial\">(0, 7): </text><rect x=\"10.0\" y=\"405.0\" width=\"58.4249609375\" height=\"40\" stroke=\"black\" fill=\"white\" stroke-width=\"0\" /><text x=\"39.21248046875\" y=\"425.0\" dominant-baseline=\"middle\" text-anchor=\"middle\" font-size=\"14px\" font-family=\"Arial\">(0, 8): </text><rect x=\"10.0\" y=\"455.0\" width=\"58.4249609375\" height=\"40\" stroke=\"black\" fill=\"white\" stroke-width=\"0\" /><text x=\"39.21248046875\" y=\"475.0\" dominant-baseline=\"middle\" text-anchor=\"middle\" font-size=\"14px\" font-family=\"Arial\">(0, 9): </text><rect x=\"10.0\" y=\"505.0\" width=\"58.4249609375\" height=\"40\" stroke=\"black\" fill=\"white\" stroke-width=\"0\" /><text x=\"39.21248046875\" y=\"525.0\" dominant-baseline=\"middle\" text-anchor=\"middle\" font-size=\"14px\" font-family=\"Arial\">(0, 10): </text><rect x=\"88.4249609375\" y=\"505.0\" width=\"40\" height=\"40\" stroke=\"black\" fill=\"white\" stroke-width=\"1\" /><text x=\"108.4249609375\" y=\"525.0\" dominant-baseline=\"middle\" text-anchor=\"middle\" font-size=\"18px\" font-family=\"Arial\">H</text><rect x=\"148.4249609375\" y=\"5.0\" width=\"91.21832031250001\" height=\"40\" stroke=\"black\" fill=\"white\" stroke-width=\"1\" /><text x=\"194.03412109375\" y=\"25.0\" dominant-baseline=\"middle\" text-anchor=\"middle\" font-size=\"14px\" font-family=\"Arial\">Rx(theta0)</text><rect x=\"148.4249609375\" y=\"55.0\" width=\"91.21832031250001\" height=\"40\" stroke=\"black\" fill=\"white\" stroke-width=\"1\" /><text x=\"194.03412109375\" y=\"75.0\" dominant-baseline=\"middle\" text-anchor=\"middle\" font-size=\"14px\" font-family=\"Arial\">Rx(theta3)</text><rect x=\"148.4249609375\" y=\"105.0\" width=\"91.21832031250001\" height=\"40\" stroke=\"black\" fill=\"white\" stroke-width=\"1\" /><text x=\"194.03412109375\" y=\"125.0\" dominant-baseline=\"middle\" text-anchor=\"middle\" font-size=\"14px\" font-family=\"Arial\">Rx(theta6)</text><rect x=\"148.4249609375\" y=\"155.0\" width=\"91.21832031250001\" height=\"40\" stroke=\"black\" fill=\"white\" stroke-width=\"1\" /><text x=\"194.03412109375\" y=\"175.0\" dominant-baseline=\"middle\" text-anchor=\"middle\" font-size=\"14px\" font-family=\"Arial\">Rx(theta9)</text><rect x=\"148.4249609375\" y=\"205.0\" width=\"91.21832031250001\" height=\"40\" stroke=\"black\" fill=\"white\" stroke-width=\"1\" /><text x=\"194.03412109375\" y=\"225.0\" dominant-baseline=\"middle\" text-anchor=\"middle\" font-size=\"14px\" font-family=\"Arial\">Rx(theta12)</text><rect x=\"148.4249609375\" y=\"255.0\" width=\"91.21832031250001\" height=\"40\" stroke=\"black\" fill=\"white\" stroke-width=\"1\" /><text x=\"194.03412109375\" y=\"275.0\" dominant-baseline=\"middle\" text-anchor=\"middle\" font-size=\"14px\" font-family=\"Arial\">Rx(theta15)</text><rect x=\"148.4249609375\" y=\"305.0\" width=\"91.21832031250001\" height=\"40\" stroke=\"black\" fill=\"white\" stroke-width=\"1\" /><text x=\"194.03412109375\" y=\"325.0\" dominant-baseline=\"middle\" text-anchor=\"middle\" font-size=\"14px\" font-family=\"Arial\">Rx(theta18)</text><rect x=\"148.4249609375\" y=\"355.0\" width=\"91.21832031250001\" height=\"40\" stroke=\"black\" fill=\"white\" stroke-width=\"1\" /><text x=\"194.03412109375\" y=\"375.0\" dominant-baseline=\"middle\" text-anchor=\"middle\" font-size=\"14px\" font-family=\"Arial\">Rx(theta21)</text><rect x=\"148.4249609375\" y=\"405.0\" width=\"91.21832031250001\" height=\"40\" stroke=\"black\" fill=\"white\" stroke-width=\"1\" /><text x=\"194.03412109375\" y=\"425.0\" dominant-baseline=\"middle\" text-anchor=\"middle\" font-size=\"14px\" font-family=\"Arial\">Rx(theta24)</text><rect x=\"148.4249609375\" y=\"455.0\" width=\"91.21832031250001\" height=\"40\" stroke=\"black\" fill=\"white\" stroke-width=\"1\" /><text x=\"194.03412109375\" y=\"475.0\" dominant-baseline=\"middle\" text-anchor=\"middle\" font-size=\"14px\" font-family=\"Arial\">Rx(theta27)</text><rect x=\"259.64328125000003\" y=\"5.0\" width=\"90.4483203125\" height=\"40\" stroke=\"black\" fill=\"white\" stroke-width=\"1\" /><text x=\"304.86744140625\" y=\"25.0\" dominant-baseline=\"middle\" text-anchor=\"middle\" font-size=\"14px\" font-family=\"Arial\">Ry(theta1)</text><rect x=\"259.64328125000003\" y=\"55.0\" width=\"90.4483203125\" height=\"40\" stroke=\"black\" fill=\"white\" stroke-width=\"1\" /><text x=\"304.86744140625\" y=\"75.0\" dominant-baseline=\"middle\" text-anchor=\"middle\" font-size=\"14px\" font-family=\"Arial\">Ry(theta4)</text><rect x=\"259.64328125000003\" y=\"105.0\" width=\"90.4483203125\" height=\"40\" stroke=\"black\" fill=\"white\" stroke-width=\"1\" /><text x=\"304.86744140625\" y=\"125.0\" dominant-baseline=\"middle\" text-anchor=\"middle\" font-size=\"14px\" font-family=\"Arial\">Ry(theta7)</text><rect x=\"259.64328125000003\" y=\"155.0\" width=\"90.4483203125\" height=\"40\" stroke=\"black\" fill=\"white\" stroke-width=\"1\" /><text x=\"304.86744140625\" y=\"175.0\" dominant-baseline=\"middle\" text-anchor=\"middle\" font-size=\"14px\" font-family=\"Arial\">Ry(theta10)</text><rect x=\"259.64328125000003\" y=\"205.0\" width=\"90.4483203125\" height=\"40\" stroke=\"black\" fill=\"white\" stroke-width=\"1\" /><text x=\"304.86744140625\" y=\"225.0\" dominant-baseline=\"middle\" text-anchor=\"middle\" font-size=\"14px\" font-family=\"Arial\">Ry(theta13)</text><rect x=\"259.64328125000003\" y=\"255.0\" width=\"90.4483203125\" height=\"40\" stroke=\"black\" fill=\"white\" stroke-width=\"1\" /><text x=\"304.86744140625\" y=\"275.0\" dominant-baseline=\"middle\" text-anchor=\"middle\" font-size=\"14px\" font-family=\"Arial\">Ry(theta16)</text><rect x=\"259.64328125000003\" y=\"305.0\" width=\"90.4483203125\" height=\"40\" stroke=\"black\" fill=\"white\" stroke-width=\"1\" /><text x=\"304.86744140625\" y=\"325.0\" dominant-baseline=\"middle\" text-anchor=\"middle\" font-size=\"14px\" font-family=\"Arial\">Ry(theta19)</text><rect x=\"259.64328125000003\" y=\"355.0\" width=\"90.4483203125\" height=\"40\" stroke=\"black\" fill=\"white\" stroke-width=\"1\" /><text x=\"304.86744140625\" y=\"375.0\" dominant-baseline=\"middle\" text-anchor=\"middle\" font-size=\"14px\" font-family=\"Arial\">Ry(theta22)</text><rect x=\"259.64328125000003\" y=\"405.0\" width=\"90.4483203125\" height=\"40\" stroke=\"black\" fill=\"white\" stroke-width=\"1\" /><text x=\"304.86744140625\" y=\"425.0\" dominant-baseline=\"middle\" text-anchor=\"middle\" font-size=\"14px\" font-family=\"Arial\">Ry(theta25)</text><rect x=\"259.64328125000003\" y=\"455.0\" width=\"90.4483203125\" height=\"40\" stroke=\"black\" fill=\"white\" stroke-width=\"1\" /><text x=\"304.86744140625\" y=\"475.0\" dominant-baseline=\"middle\" text-anchor=\"middle\" font-size=\"14px\" font-family=\"Arial\">Ry(theta28)</text><rect x=\"370.09160156250005\" y=\"5.0\" width=\"90.28179687500001\" height=\"40\" stroke=\"black\" fill=\"white\" stroke-width=\"1\" /><text x=\"415.2325000000001\" y=\"25.0\" dominant-baseline=\"middle\" text-anchor=\"middle\" font-size=\"14px\" font-family=\"Arial\">Rz(theta2)</text><rect x=\"370.09160156250005\" y=\"55.0\" width=\"90.28179687500001\" height=\"40\" stroke=\"black\" fill=\"white\" stroke-width=\"1\" /><text x=\"415.2325000000001\" y=\"75.0\" dominant-baseline=\"middle\" text-anchor=\"middle\" font-size=\"14px\" font-family=\"Arial\">Rz(theta5)</text><rect x=\"370.09160156250005\" y=\"105.0\" width=\"90.28179687500001\" height=\"40\" stroke=\"black\" fill=\"white\" stroke-width=\"1\" /><text x=\"415.2325000000001\" y=\"125.0\" dominant-baseline=\"middle\" text-anchor=\"middle\" font-size=\"14px\" font-family=\"Arial\">Rz(theta8)</text><rect x=\"370.09160156250005\" y=\"155.0\" width=\"90.28179687500001\" height=\"40\" stroke=\"black\" fill=\"white\" stroke-width=\"1\" /><text x=\"415.2325000000001\" y=\"175.0\" dominant-baseline=\"middle\" text-anchor=\"middle\" font-size=\"14px\" font-family=\"Arial\">Rz(theta11)</text><rect x=\"370.09160156250005\" y=\"205.0\" width=\"90.28179687500001\" height=\"40\" stroke=\"black\" fill=\"white\" stroke-width=\"1\" /><text x=\"415.2325000000001\" y=\"225.0\" dominant-baseline=\"middle\" text-anchor=\"middle\" font-size=\"14px\" font-family=\"Arial\">Rz(theta14)</text><rect x=\"370.09160156250005\" y=\"255.0\" width=\"90.28179687500001\" height=\"40\" stroke=\"black\" fill=\"white\" stroke-width=\"1\" /><text x=\"415.2325000000001\" y=\"275.0\" dominant-baseline=\"middle\" text-anchor=\"middle\" font-size=\"14px\" font-family=\"Arial\">Rz(theta17)</text><rect x=\"370.09160156250005\" y=\"305.0\" width=\"90.28179687500001\" height=\"40\" stroke=\"black\" fill=\"white\" stroke-width=\"1\" /><text x=\"415.2325000000001\" y=\"325.0\" dominant-baseline=\"middle\" text-anchor=\"middle\" font-size=\"14px\" font-family=\"Arial\">Rz(theta20)</text><rect x=\"370.09160156250005\" y=\"355.0\" width=\"90.28179687500001\" height=\"40\" stroke=\"black\" fill=\"white\" stroke-width=\"1\" /><text x=\"415.2325000000001\" y=\"375.0\" dominant-baseline=\"middle\" text-anchor=\"middle\" font-size=\"14px\" font-family=\"Arial\">Rz(theta23)</text><rect x=\"370.09160156250005\" y=\"405.0\" width=\"90.28179687500001\" height=\"40\" stroke=\"black\" fill=\"white\" stroke-width=\"1\" /><text x=\"415.2325000000001\" y=\"425.0\" dominant-baseline=\"middle\" text-anchor=\"middle\" font-size=\"14px\" font-family=\"Arial\">Rz(theta26)</text><rect x=\"370.09160156250005\" y=\"455.0\" width=\"90.28179687500001\" height=\"40\" stroke=\"black\" fill=\"white\" stroke-width=\"1\" /><text x=\"415.2325000000001\" y=\"475.0\" dominant-baseline=\"middle\" text-anchor=\"middle\" font-size=\"14px\" font-family=\"Arial\">Rz(theta29)</text><circle cx=\"500.37339843750004\" cy=\"25.0\" r=\"10.0\" /><circle cx=\"500.37339843750004\" cy=\"75.0\" r=\"10.0\" /><circle cx=\"560.3733984375001\" cy=\"75.0\" r=\"10.0\" /><circle cx=\"560.3733984375001\" cy=\"125.0\" r=\"10.0\" /><circle cx=\"620.3733984375001\" cy=\"125.0\" r=\"10.0\" /><circle cx=\"620.3733984375001\" cy=\"175.0\" r=\"10.0\" /><circle cx=\"680.3733984375001\" cy=\"175.0\" r=\"10.0\" /><circle cx=\"680.3733984375001\" cy=\"225.0\" r=\"10.0\" /><circle cx=\"740.3733984375001\" cy=\"225.0\" r=\"10.0\" /><circle cx=\"740.3733984375001\" cy=\"275.0\" r=\"10.0\" /><circle cx=\"800.3733984375001\" cy=\"275.0\" r=\"10.0\" /><circle cx=\"800.3733984375001\" cy=\"325.0\" r=\"10.0\" /><circle cx=\"860.3733984375001\" cy=\"325.0\" r=\"10.0\" /><circle cx=\"860.3733984375001\" cy=\"375.0\" r=\"10.0\" /><circle cx=\"920.3733984375001\" cy=\"375.0\" r=\"10.0\" /><circle cx=\"920.3733984375001\" cy=\"425.0\" r=\"10.0\" /><circle cx=\"980.3733984375001\" cy=\"425.0\" r=\"10.0\" /><circle cx=\"980.3733984375001\" cy=\"475.0\" r=\"10.0\" /><circle cx=\"1040.3733984375\" cy=\"475.0\" r=\"10.0\" /><circle cx=\"1040.3733984375\" cy=\"25.0\" r=\"10.0\" /><rect x=\"1080.3733984375\" y=\"505.0\" width=\"72.8154296875\" height=\"40\" stroke=\"black\" fill=\"white\" stroke-width=\"1\" /><text x=\"1116.78111328125\" y=\"525.0\" dominant-baseline=\"middle\" text-anchor=\"middle\" font-size=\"14px\" font-family=\"Arial\">@^zeta0</text><circle cx=\"1116.78111328125\" cy=\"25.0\" r=\"10.0\" /><rect x=\"1173.188828125\" y=\"505.0\" width=\"72.4523046875\" height=\"40\" stroke=\"black\" fill=\"white\" stroke-width=\"1\" /><text x=\"1209.4149804687502\" y=\"525.0\" dominant-baseline=\"middle\" text-anchor=\"middle\" font-size=\"14px\" font-family=\"Arial\">@^zeta1</text><circle cx=\"1209.4149804687502\" cy=\"475.0\" r=\"10.0\" /><rect x=\"1265.6411328125\" y=\"505.0\" width=\"40\" height=\"40\" stroke=\"black\" fill=\"white\" stroke-width=\"1\" /><text x=\"1285.6411328125\" y=\"525.0\" dominant-baseline=\"middle\" text-anchor=\"middle\" font-size=\"18px\" font-family=\"Arial\">X</text><rect x=\"1325.6411328125\" y=\"505.0\" width=\"72.8635546875\" height=\"40\" stroke=\"black\" fill=\"white\" stroke-width=\"1\" /><text x=\"1362.07291015625\" y=\"525.0\" dominant-baseline=\"middle\" text-anchor=\"middle\" font-size=\"14px\" font-family=\"Arial\">@^zeta6</text><circle cx=\"1362.07291015625\" cy=\"25.0\" r=\"10.0\" /><rect x=\"1418.5046875\" y=\"505.0\" width=\"72.5485546875\" height=\"40\" stroke=\"black\" fill=\"white\" stroke-width=\"1\" /><text x=\"1454.7789648437501\" y=\"525.0\" dominant-baseline=\"middle\" text-anchor=\"middle\" font-size=\"14px\" font-family=\"Arial\">@^zeta7</text><circle cx=\"1454.7789648437501\" cy=\"475.0\" r=\"10.0\" /><rect x=\"1511.0532421875\" y=\"505.0\" width=\"40\" height=\"40\" stroke=\"black\" fill=\"white\" stroke-width=\"1\" /><text x=\"1531.0532421875\" y=\"525.0\" dominant-baseline=\"middle\" text-anchor=\"middle\" font-size=\"18px\" font-family=\"Arial\">X</text><rect x=\"1571.0532421875\" y=\"5.0\" width=\"69.45953125\" height=\"40\" stroke=\"black\" fill=\"white\" stroke-width=\"1\" /><text x=\"1605.7830078125\" y=\"25.0\" dominant-baseline=\"middle\" text-anchor=\"middle\" font-size=\"14px\" font-family=\"Arial\">Rx(x0_0)</text><rect x=\"1571.0532421875\" y=\"55.0\" width=\"69.45953125\" height=\"40\" stroke=\"black\" fill=\"white\" stroke-width=\"1\" /><text x=\"1605.7830078125\" y=\"75.0\" dominant-baseline=\"middle\" text-anchor=\"middle\" font-size=\"14px\" font-family=\"Arial\">Rx(x0_1)</text><rect x=\"1571.0532421875\" y=\"105.0\" width=\"69.45953125\" height=\"40\" stroke=\"black\" fill=\"white\" stroke-width=\"1\" /><text x=\"1605.7830078125\" y=\"125.0\" dominant-baseline=\"middle\" text-anchor=\"middle\" font-size=\"14px\" font-family=\"Arial\">Rx(x0_2)</text><rect x=\"1571.0532421875\" y=\"155.0\" width=\"69.45953125\" height=\"40\" stroke=\"black\" fill=\"white\" stroke-width=\"1\" /><text x=\"1605.7830078125\" y=\"175.0\" dominant-baseline=\"middle\" text-anchor=\"middle\" font-size=\"14px\" font-family=\"Arial\">Rx(x1_0)</text><rect x=\"1571.0532421875\" y=\"205.0\" width=\"69.45953125\" height=\"40\" stroke=\"black\" fill=\"white\" stroke-width=\"1\" /><text x=\"1605.7830078125\" y=\"225.0\" dominant-baseline=\"middle\" text-anchor=\"middle\" font-size=\"14px\" font-family=\"Arial\">Rx(x1_1)</text><rect x=\"1571.0532421875\" y=\"255.0\" width=\"69.45953125\" height=\"40\" stroke=\"black\" fill=\"white\" stroke-width=\"1\" /><text x=\"1605.7830078125\" y=\"275.0\" dominant-baseline=\"middle\" text-anchor=\"middle\" font-size=\"14px\" font-family=\"Arial\">Rx(x1_2)</text><rect x=\"1571.0532421875\" y=\"305.0\" width=\"69.45953125\" height=\"40\" stroke=\"black\" fill=\"white\" stroke-width=\"1\" /><text x=\"1605.7830078125\" y=\"325.0\" dominant-baseline=\"middle\" text-anchor=\"middle\" font-size=\"14px\" font-family=\"Arial\">Rx(x2_0)</text><rect x=\"1571.0532421875\" y=\"355.0\" width=\"69.45953125\" height=\"40\" stroke=\"black\" fill=\"white\" stroke-width=\"1\" /><text x=\"1605.7830078125\" y=\"375.0\" dominant-baseline=\"middle\" text-anchor=\"middle\" font-size=\"14px\" font-family=\"Arial\">Rx(x2_1)</text><rect x=\"1571.0532421875\" y=\"405.0\" width=\"69.45953125\" height=\"40\" stroke=\"black\" fill=\"white\" stroke-width=\"1\" /><text x=\"1605.7830078125\" y=\"425.0\" dominant-baseline=\"middle\" text-anchor=\"middle\" font-size=\"14px\" font-family=\"Arial\">Rx(x2_2)</text><rect x=\"1571.0532421875\" y=\"455.0\" width=\"69.45953125\" height=\"40\" stroke=\"black\" fill=\"white\" stroke-width=\"1\" /><text x=\"1605.7830078125\" y=\"475.0\" dominant-baseline=\"middle\" text-anchor=\"middle\" font-size=\"14px\" font-family=\"Arial\">Rx(x3_0)</text><rect x=\"1660.5127734375\" y=\"5.0\" width=\"91.21832031250001\" height=\"40\" stroke=\"black\" fill=\"white\" stroke-width=\"1\" /><text x=\"1706.12193359375\" y=\"25.0\" dominant-baseline=\"middle\" text-anchor=\"middle\" font-size=\"14px\" font-family=\"Arial\">Rx(theta30)</text><rect x=\"1660.5127734375\" y=\"55.0\" width=\"91.21832031250001\" height=\"40\" stroke=\"black\" fill=\"white\" stroke-width=\"1\" /><text x=\"1706.12193359375\" y=\"75.0\" dominant-baseline=\"middle\" text-anchor=\"middle\" font-size=\"14px\" font-family=\"Arial\">Rx(theta33)</text><rect x=\"1660.5127734375\" y=\"105.0\" width=\"91.21832031250001\" height=\"40\" stroke=\"black\" fill=\"white\" stroke-width=\"1\" /><text x=\"1706.12193359375\" y=\"125.0\" dominant-baseline=\"middle\" text-anchor=\"middle\" font-size=\"14px\" font-family=\"Arial\">Rx(theta36)</text><rect x=\"1660.5127734375\" y=\"155.0\" width=\"91.21832031250001\" height=\"40\" stroke=\"black\" fill=\"white\" stroke-width=\"1\" /><text x=\"1706.12193359375\" y=\"175.0\" dominant-baseline=\"middle\" text-anchor=\"middle\" font-size=\"14px\" font-family=\"Arial\">Rx(theta39)</text><rect x=\"1660.5127734375\" y=\"205.0\" width=\"91.21832031250001\" height=\"40\" stroke=\"black\" fill=\"white\" stroke-width=\"1\" /><text x=\"1706.12193359375\" y=\"225.0\" dominant-baseline=\"middle\" text-anchor=\"middle\" font-size=\"14px\" font-family=\"Arial\">Rx(theta42)</text><rect x=\"1660.5127734375\" y=\"255.0\" width=\"91.21832031250001\" height=\"40\" stroke=\"black\" fill=\"white\" stroke-width=\"1\" /><text x=\"1706.12193359375\" y=\"275.0\" dominant-baseline=\"middle\" text-anchor=\"middle\" font-size=\"14px\" font-family=\"Arial\">Rx(theta45)</text><rect x=\"1660.5127734375\" y=\"305.0\" width=\"91.21832031250001\" height=\"40\" stroke=\"black\" fill=\"white\" stroke-width=\"1\" /><text x=\"1706.12193359375\" y=\"325.0\" dominant-baseline=\"middle\" text-anchor=\"middle\" font-size=\"14px\" font-family=\"Arial\">Rx(theta48)</text><rect x=\"1660.5127734375\" y=\"355.0\" width=\"91.21832031250001\" height=\"40\" stroke=\"black\" fill=\"white\" stroke-width=\"1\" /><text x=\"1706.12193359375\" y=\"375.0\" dominant-baseline=\"middle\" text-anchor=\"middle\" font-size=\"14px\" font-family=\"Arial\">Rx(theta51)</text><rect x=\"1660.5127734375\" y=\"405.0\" width=\"91.21832031250001\" height=\"40\" stroke=\"black\" fill=\"white\" stroke-width=\"1\" /><text x=\"1706.12193359375\" y=\"425.0\" dominant-baseline=\"middle\" text-anchor=\"middle\" font-size=\"14px\" font-family=\"Arial\">Rx(theta54)</text><rect x=\"1660.5127734375\" y=\"455.0\" width=\"91.21832031250001\" height=\"40\" stroke=\"black\" fill=\"white\" stroke-width=\"1\" /><text x=\"1706.12193359375\" y=\"475.0\" dominant-baseline=\"middle\" text-anchor=\"middle\" font-size=\"14px\" font-family=\"Arial\">Rx(theta57)</text><rect x=\"1771.7310937500001\" y=\"5.0\" width=\"90.4483203125\" height=\"40\" stroke=\"black\" fill=\"white\" stroke-width=\"1\" /><text x=\"1816.9552539062502\" y=\"25.0\" dominant-baseline=\"middle\" text-anchor=\"middle\" font-size=\"14px\" font-family=\"Arial\">Ry(theta31)</text><rect x=\"1771.7310937500001\" y=\"55.0\" width=\"90.4483203125\" height=\"40\" stroke=\"black\" fill=\"white\" stroke-width=\"1\" /><text x=\"1816.9552539062502\" y=\"75.0\" dominant-baseline=\"middle\" text-anchor=\"middle\" font-size=\"14px\" font-family=\"Arial\">Ry(theta34)</text><rect x=\"1771.7310937500001\" y=\"105.0\" width=\"90.4483203125\" height=\"40\" stroke=\"black\" fill=\"white\" stroke-width=\"1\" /><text x=\"1816.9552539062502\" y=\"125.0\" dominant-baseline=\"middle\" text-anchor=\"middle\" font-size=\"14px\" font-family=\"Arial\">Ry(theta37)</text><rect x=\"1771.7310937500001\" y=\"155.0\" width=\"90.4483203125\" height=\"40\" stroke=\"black\" fill=\"white\" stroke-width=\"1\" /><text x=\"1816.9552539062502\" y=\"175.0\" dominant-baseline=\"middle\" text-anchor=\"middle\" font-size=\"14px\" font-family=\"Arial\">Ry(theta40)</text><rect x=\"1771.7310937500001\" y=\"205.0\" width=\"90.4483203125\" height=\"40\" stroke=\"black\" fill=\"white\" stroke-width=\"1\" /><text x=\"1816.9552539062502\" y=\"225.0\" dominant-baseline=\"middle\" text-anchor=\"middle\" font-size=\"14px\" font-family=\"Arial\">Ry(theta43)</text><rect x=\"1771.7310937500001\" y=\"255.0\" width=\"90.4483203125\" height=\"40\" stroke=\"black\" fill=\"white\" stroke-width=\"1\" /><text x=\"1816.9552539062502\" y=\"275.0\" dominant-baseline=\"middle\" text-anchor=\"middle\" font-size=\"14px\" font-family=\"Arial\">Ry(theta46)</text><rect x=\"1771.7310937500001\" y=\"305.0\" width=\"90.4483203125\" height=\"40\" stroke=\"black\" fill=\"white\" stroke-width=\"1\" /><text x=\"1816.9552539062502\" y=\"325.0\" dominant-baseline=\"middle\" text-anchor=\"middle\" font-size=\"14px\" font-family=\"Arial\">Ry(theta49)</text><rect x=\"1771.7310937500001\" y=\"355.0\" width=\"90.4483203125\" height=\"40\" stroke=\"black\" fill=\"white\" stroke-width=\"1\" /><text x=\"1816.9552539062502\" y=\"375.0\" dominant-baseline=\"middle\" text-anchor=\"middle\" font-size=\"14px\" font-family=\"Arial\">Ry(theta52)</text><rect x=\"1771.7310937500001\" y=\"405.0\" width=\"90.4483203125\" height=\"40\" stroke=\"black\" fill=\"white\" stroke-width=\"1\" /><text x=\"1816.9552539062502\" y=\"425.0\" dominant-baseline=\"middle\" text-anchor=\"middle\" font-size=\"14px\" font-family=\"Arial\">Ry(theta55)</text><rect x=\"1771.7310937500001\" y=\"455.0\" width=\"90.4483203125\" height=\"40\" stroke=\"black\" fill=\"white\" stroke-width=\"1\" /><text x=\"1816.9552539062502\" y=\"475.0\" dominant-baseline=\"middle\" text-anchor=\"middle\" font-size=\"14px\" font-family=\"Arial\">Ry(theta58)</text><rect x=\"1882.1794140625002\" y=\"5.0\" width=\"90.28179687500001\" height=\"40\" stroke=\"black\" fill=\"white\" stroke-width=\"1\" /><text x=\"1927.3203125000002\" y=\"25.0\" dominant-baseline=\"middle\" text-anchor=\"middle\" font-size=\"14px\" font-family=\"Arial\">Rz(theta32)</text><rect x=\"1882.1794140625002\" y=\"55.0\" width=\"90.28179687500001\" height=\"40\" stroke=\"black\" fill=\"white\" stroke-width=\"1\" /><text x=\"1927.3203125000002\" y=\"75.0\" dominant-baseline=\"middle\" text-anchor=\"middle\" font-size=\"14px\" font-family=\"Arial\">Rz(theta35)</text><rect x=\"1882.1794140625002\" y=\"105.0\" width=\"90.28179687500001\" height=\"40\" stroke=\"black\" fill=\"white\" stroke-width=\"1\" /><text x=\"1927.3203125000002\" y=\"125.0\" dominant-baseline=\"middle\" text-anchor=\"middle\" font-size=\"14px\" font-family=\"Arial\">Rz(theta38)</text><rect x=\"1882.1794140625002\" y=\"155.0\" width=\"90.28179687500001\" height=\"40\" stroke=\"black\" fill=\"white\" stroke-width=\"1\" /><text x=\"1927.3203125000002\" y=\"175.0\" dominant-baseline=\"middle\" text-anchor=\"middle\" font-size=\"14px\" font-family=\"Arial\">Rz(theta41)</text><rect x=\"1882.1794140625002\" y=\"205.0\" width=\"90.28179687500001\" height=\"40\" stroke=\"black\" fill=\"white\" stroke-width=\"1\" /><text x=\"1927.3203125000002\" y=\"225.0\" dominant-baseline=\"middle\" text-anchor=\"middle\" font-size=\"14px\" font-family=\"Arial\">Rz(theta44)</text><rect x=\"1882.1794140625002\" y=\"255.0\" width=\"90.28179687500001\" height=\"40\" stroke=\"black\" fill=\"white\" stroke-width=\"1\" /><text x=\"1927.3203125000002\" y=\"275.0\" dominant-baseline=\"middle\" text-anchor=\"middle\" font-size=\"14px\" font-family=\"Arial\">Rz(theta47)</text><rect x=\"1882.1794140625002\" y=\"305.0\" width=\"90.28179687500001\" height=\"40\" stroke=\"black\" fill=\"white\" stroke-width=\"1\" /><text x=\"1927.3203125000002\" y=\"325.0\" dominant-baseline=\"middle\" text-anchor=\"middle\" font-size=\"14px\" font-family=\"Arial\">Rz(theta50)</text><rect x=\"1882.1794140625002\" y=\"355.0\" width=\"90.28179687500001\" height=\"40\" stroke=\"black\" fill=\"white\" stroke-width=\"1\" /><text x=\"1927.3203125000002\" y=\"375.0\" dominant-baseline=\"middle\" text-anchor=\"middle\" font-size=\"14px\" font-family=\"Arial\">Rz(theta53)</text><rect x=\"1882.1794140625002\" y=\"405.0\" width=\"90.28179687500001\" height=\"40\" stroke=\"black\" fill=\"white\" stroke-width=\"1\" /><text x=\"1927.3203125000002\" y=\"425.0\" dominant-baseline=\"middle\" text-anchor=\"middle\" font-size=\"14px\" font-family=\"Arial\">Rz(theta56)</text><rect x=\"1882.1794140625002\" y=\"455.0\" width=\"90.28179687500001\" height=\"40\" stroke=\"black\" fill=\"white\" stroke-width=\"1\" /><text x=\"1927.3203125000002\" y=\"475.0\" dominant-baseline=\"middle\" text-anchor=\"middle\" font-size=\"14px\" font-family=\"Arial\">Rz(theta59)</text><circle cx=\"2012.4612109375003\" cy=\"25.0\" r=\"10.0\" /><circle cx=\"2012.4612109375003\" cy=\"75.0\" r=\"10.0\" /><circle cx=\"2072.4612109375003\" cy=\"75.0\" r=\"10.0\" /><circle cx=\"2072.4612109375003\" cy=\"125.0\" r=\"10.0\" /><circle cx=\"2132.4612109375003\" cy=\"125.0\" r=\"10.0\" /><circle cx=\"2132.4612109375003\" cy=\"175.0\" r=\"10.0\" /><circle cx=\"2192.4612109375003\" cy=\"175.0\" r=\"10.0\" /><circle cx=\"2192.4612109375003\" cy=\"225.0\" r=\"10.0\" /><circle cx=\"2252.4612109375003\" cy=\"225.0\" r=\"10.0\" /><circle cx=\"2252.4612109375003\" cy=\"275.0\" r=\"10.0\" /><circle cx=\"2312.4612109375003\" cy=\"275.0\" r=\"10.0\" /><circle cx=\"2312.4612109375003\" cy=\"325.0\" r=\"10.0\" /><circle cx=\"2372.4612109375003\" cy=\"325.0\" r=\"10.0\" /><circle cx=\"2372.4612109375003\" cy=\"375.0\" r=\"10.0\" /><circle cx=\"2432.4612109375003\" cy=\"375.0\" r=\"10.0\" /><circle cx=\"2432.4612109375003\" cy=\"425.0\" r=\"10.0\" /><circle cx=\"2492.4612109375003\" cy=\"425.0\" r=\"10.0\" /><circle cx=\"2492.4612109375003\" cy=\"475.0\" r=\"10.0\" /><circle cx=\"2552.4612109375003\" cy=\"475.0\" r=\"10.0\" /><circle cx=\"2552.4612109375003\" cy=\"25.0\" r=\"10.0\" /><rect x=\"2592.4612109375003\" y=\"505.0\" width=\"72.3429296875\" height=\"40\" stroke=\"black\" fill=\"white\" stroke-width=\"1\" /><text x=\"2628.6326757812503\" y=\"525.0\" dominant-baseline=\"middle\" text-anchor=\"middle\" font-size=\"14px\" font-family=\"Arial\">@^zeta2</text><circle cx=\"2628.6326757812503\" cy=\"25.0\" r=\"10.0\" /><rect x=\"2684.8041406250004\" y=\"505.0\" width=\"72.6229296875\" height=\"40\" stroke=\"black\" fill=\"white\" stroke-width=\"1\" /><text x=\"2721.1156054687503\" y=\"525.0\" dominant-baseline=\"middle\" text-anchor=\"middle\" font-size=\"14px\" font-family=\"Arial\">@^zeta3</text><circle cx=\"2721.1156054687503\" cy=\"475.0\" r=\"10.0\" /><rect x=\"2777.4270703125003\" y=\"505.0\" width=\"40\" height=\"40\" stroke=\"black\" fill=\"white\" stroke-width=\"1\" /><text x=\"2797.4270703125003\" y=\"525.0\" dominant-baseline=\"middle\" text-anchor=\"middle\" font-size=\"18px\" font-family=\"Arial\">X</text><rect x=\"2837.4270703125003\" y=\"505.0\" width=\"72.7869921875\" height=\"40\" stroke=\"black\" fill=\"white\" stroke-width=\"1\" /><text x=\"2873.8205664062502\" y=\"525.0\" dominant-baseline=\"middle\" text-anchor=\"middle\" font-size=\"14px\" font-family=\"Arial\">@^zeta8</text><circle cx=\"2873.8205664062502\" cy=\"25.0\" r=\"10.0\" /><rect x=\"2930.2140625\" y=\"505.0\" width=\"72.7607421875\" height=\"40\" stroke=\"black\" fill=\"white\" stroke-width=\"1\" /><text x=\"2966.59443359375\" y=\"525.0\" dominant-baseline=\"middle\" text-anchor=\"middle\" font-size=\"14px\" font-family=\"Arial\">@^zeta9</text><circle cx=\"2966.59443359375\" cy=\"475.0\" r=\"10.0\" /><rect x=\"3022.9748046875\" y=\"505.0\" width=\"40\" height=\"40\" stroke=\"black\" fill=\"white\" stroke-width=\"1\" /><text x=\"3042.9748046875\" y=\"525.0\" dominant-baseline=\"middle\" text-anchor=\"middle\" font-size=\"18px\" font-family=\"Arial\">X</text><rect x=\"3082.9748046875\" y=\"5.0\" width=\"69.45953125\" height=\"40\" stroke=\"black\" fill=\"white\" stroke-width=\"1\" /><text x=\"3117.7045703125\" y=\"25.0\" dominant-baseline=\"middle\" text-anchor=\"middle\" font-size=\"14px\" font-family=\"Arial\">Rx(x3_1)</text><rect x=\"3082.9748046875\" y=\"55.0\" width=\"69.45953125\" height=\"40\" stroke=\"black\" fill=\"white\" stroke-width=\"1\" /><text x=\"3117.7045703125\" y=\"75.0\" dominant-baseline=\"middle\" text-anchor=\"middle\" font-size=\"14px\" font-family=\"Arial\">Rx(x3_2)</text><rect x=\"3082.9748046875\" y=\"105.0\" width=\"69.45953125\" height=\"40\" stroke=\"black\" fill=\"white\" stroke-width=\"1\" /><text x=\"3117.7045703125\" y=\"125.0\" dominant-baseline=\"middle\" text-anchor=\"middle\" font-size=\"14px\" font-family=\"Arial\">Rx(x4_0)</text><rect x=\"3082.9748046875\" y=\"155.0\" width=\"69.45953125\" height=\"40\" stroke=\"black\" fill=\"white\" stroke-width=\"1\" /><text x=\"3117.7045703125\" y=\"175.0\" dominant-baseline=\"middle\" text-anchor=\"middle\" font-size=\"14px\" font-family=\"Arial\">Rx(x4_1)</text><rect x=\"3082.9748046875\" y=\"205.0\" width=\"69.45953125\" height=\"40\" stroke=\"black\" fill=\"white\" stroke-width=\"1\" /><text x=\"3117.7045703125\" y=\"225.0\" dominant-baseline=\"middle\" text-anchor=\"middle\" font-size=\"14px\" font-family=\"Arial\">Rx(x4_2)</text><rect x=\"3082.9748046875\" y=\"255.0\" width=\"69.45953125\" height=\"40\" stroke=\"black\" fill=\"white\" stroke-width=\"1\" /><text x=\"3117.7045703125\" y=\"275.0\" dominant-baseline=\"middle\" text-anchor=\"middle\" font-size=\"14px\" font-family=\"Arial\">Rx(x5_0)</text><rect x=\"3082.9748046875\" y=\"305.0\" width=\"69.45953125\" height=\"40\" stroke=\"black\" fill=\"white\" stroke-width=\"1\" /><text x=\"3117.7045703125\" y=\"325.0\" dominant-baseline=\"middle\" text-anchor=\"middle\" font-size=\"14px\" font-family=\"Arial\">Rx(x5_1)</text><rect x=\"3082.9748046875\" y=\"355.0\" width=\"69.45953125\" height=\"40\" stroke=\"black\" fill=\"white\" stroke-width=\"1\" /><text x=\"3117.7045703125\" y=\"375.0\" dominant-baseline=\"middle\" text-anchor=\"middle\" font-size=\"14px\" font-family=\"Arial\">Rx(x5_2)</text><rect x=\"3082.9748046875\" y=\"405.0\" width=\"69.45953125\" height=\"40\" stroke=\"black\" fill=\"white\" stroke-width=\"1\" /><text x=\"3117.7045703125\" y=\"425.0\" dominant-baseline=\"middle\" text-anchor=\"middle\" font-size=\"14px\" font-family=\"Arial\">Rx(x6_0)</text><rect x=\"3082.9748046875\" y=\"455.0\" width=\"69.45953125\" height=\"40\" stroke=\"black\" fill=\"white\" stroke-width=\"1\" /><text x=\"3117.7045703125\" y=\"475.0\" dominant-baseline=\"middle\" text-anchor=\"middle\" font-size=\"14px\" font-family=\"Arial\">Rx(x6_1)</text><rect x=\"3172.4343359375002\" y=\"5.0\" width=\"91.21832031250001\" height=\"40\" stroke=\"black\" fill=\"white\" stroke-width=\"1\" /><text x=\"3218.04349609375\" y=\"25.0\" dominant-baseline=\"middle\" text-anchor=\"middle\" font-size=\"14px\" font-family=\"Arial\">Rx(theta60)</text><rect x=\"3172.4343359375002\" y=\"55.0\" width=\"91.21832031250001\" height=\"40\" stroke=\"black\" fill=\"white\" stroke-width=\"1\" /><text x=\"3218.04349609375\" y=\"75.0\" dominant-baseline=\"middle\" text-anchor=\"middle\" font-size=\"14px\" font-family=\"Arial\">Rx(theta63)</text><rect x=\"3172.4343359375002\" y=\"105.0\" width=\"91.21832031250001\" height=\"40\" stroke=\"black\" fill=\"white\" stroke-width=\"1\" /><text x=\"3218.04349609375\" y=\"125.0\" dominant-baseline=\"middle\" text-anchor=\"middle\" font-size=\"14px\" font-family=\"Arial\">Rx(theta66)</text><rect x=\"3172.4343359375002\" y=\"155.0\" width=\"91.21832031250001\" height=\"40\" stroke=\"black\" fill=\"white\" stroke-width=\"1\" /><text x=\"3218.04349609375\" y=\"175.0\" dominant-baseline=\"middle\" text-anchor=\"middle\" font-size=\"14px\" font-family=\"Arial\">Rx(theta69)</text><rect x=\"3172.4343359375002\" y=\"205.0\" width=\"91.21832031250001\" height=\"40\" stroke=\"black\" fill=\"white\" stroke-width=\"1\" /><text x=\"3218.04349609375\" y=\"225.0\" dominant-baseline=\"middle\" text-anchor=\"middle\" font-size=\"14px\" font-family=\"Arial\">Rx(theta72)</text><rect x=\"3172.4343359375002\" y=\"255.0\" width=\"91.21832031250001\" height=\"40\" stroke=\"black\" fill=\"white\" stroke-width=\"1\" /><text x=\"3218.04349609375\" y=\"275.0\" dominant-baseline=\"middle\" text-anchor=\"middle\" font-size=\"14px\" font-family=\"Arial\">Rx(theta75)</text><rect x=\"3172.4343359375002\" y=\"305.0\" width=\"91.21832031250001\" height=\"40\" stroke=\"black\" fill=\"white\" stroke-width=\"1\" /><text x=\"3218.04349609375\" y=\"325.0\" dominant-baseline=\"middle\" text-anchor=\"middle\" font-size=\"14px\" font-family=\"Arial\">Rx(theta78)</text><rect x=\"3172.4343359375002\" y=\"355.0\" width=\"91.21832031250001\" height=\"40\" stroke=\"black\" fill=\"white\" stroke-width=\"1\" /><text x=\"3218.04349609375\" y=\"375.0\" dominant-baseline=\"middle\" text-anchor=\"middle\" font-size=\"14px\" font-family=\"Arial\">Rx(theta81)</text><rect x=\"3172.4343359375002\" y=\"405.0\" width=\"91.21832031250001\" height=\"40\" stroke=\"black\" fill=\"white\" stroke-width=\"1\" /><text x=\"3218.04349609375\" y=\"425.0\" dominant-baseline=\"middle\" text-anchor=\"middle\" font-size=\"14px\" font-family=\"Arial\">Rx(theta84)</text><rect x=\"3172.4343359375002\" y=\"455.0\" width=\"91.21832031250001\" height=\"40\" stroke=\"black\" fill=\"white\" stroke-width=\"1\" /><text x=\"3218.04349609375\" y=\"475.0\" dominant-baseline=\"middle\" text-anchor=\"middle\" font-size=\"14px\" font-family=\"Arial\">Rx(theta87)</text><rect x=\"3283.6526562500003\" y=\"5.0\" width=\"90.4483203125\" height=\"40\" stroke=\"black\" fill=\"white\" stroke-width=\"1\" /><text x=\"3328.8768164062503\" y=\"25.0\" dominant-baseline=\"middle\" text-anchor=\"middle\" font-size=\"14px\" font-family=\"Arial\">Ry(theta61)</text><rect x=\"3283.6526562500003\" y=\"55.0\" width=\"90.4483203125\" height=\"40\" stroke=\"black\" fill=\"white\" stroke-width=\"1\" /><text x=\"3328.8768164062503\" y=\"75.0\" dominant-baseline=\"middle\" text-anchor=\"middle\" font-size=\"14px\" font-family=\"Arial\">Ry(theta64)</text><rect x=\"3283.6526562500003\" y=\"105.0\" width=\"90.4483203125\" height=\"40\" stroke=\"black\" fill=\"white\" stroke-width=\"1\" /><text x=\"3328.8768164062503\" y=\"125.0\" dominant-baseline=\"middle\" text-anchor=\"middle\" font-size=\"14px\" font-family=\"Arial\">Ry(theta67)</text><rect x=\"3283.6526562500003\" y=\"155.0\" width=\"90.4483203125\" height=\"40\" stroke=\"black\" fill=\"white\" stroke-width=\"1\" /><text x=\"3328.8768164062503\" y=\"175.0\" dominant-baseline=\"middle\" text-anchor=\"middle\" font-size=\"14px\" font-family=\"Arial\">Ry(theta70)</text><rect x=\"3283.6526562500003\" y=\"205.0\" width=\"90.4483203125\" height=\"40\" stroke=\"black\" fill=\"white\" stroke-width=\"1\" /><text x=\"3328.8768164062503\" y=\"225.0\" dominant-baseline=\"middle\" text-anchor=\"middle\" font-size=\"14px\" font-family=\"Arial\">Ry(theta73)</text><rect x=\"3283.6526562500003\" y=\"255.0\" width=\"90.4483203125\" height=\"40\" stroke=\"black\" fill=\"white\" stroke-width=\"1\" /><text x=\"3328.8768164062503\" y=\"275.0\" dominant-baseline=\"middle\" text-anchor=\"middle\" font-size=\"14px\" font-family=\"Arial\">Ry(theta76)</text><rect x=\"3283.6526562500003\" y=\"305.0\" width=\"90.4483203125\" height=\"40\" stroke=\"black\" fill=\"white\" stroke-width=\"1\" /><text x=\"3328.8768164062503\" y=\"325.0\" dominant-baseline=\"middle\" text-anchor=\"middle\" font-size=\"14px\" font-family=\"Arial\">Ry(theta79)</text><rect x=\"3283.6526562500003\" y=\"355.0\" width=\"90.4483203125\" height=\"40\" stroke=\"black\" fill=\"white\" stroke-width=\"1\" /><text x=\"3328.8768164062503\" y=\"375.0\" dominant-baseline=\"middle\" text-anchor=\"middle\" font-size=\"14px\" font-family=\"Arial\">Ry(theta82)</text><rect x=\"3283.6526562500003\" y=\"405.0\" width=\"90.4483203125\" height=\"40\" stroke=\"black\" fill=\"white\" stroke-width=\"1\" /><text x=\"3328.8768164062503\" y=\"425.0\" dominant-baseline=\"middle\" text-anchor=\"middle\" font-size=\"14px\" font-family=\"Arial\">Ry(theta85)</text><rect x=\"3283.6526562500003\" y=\"455.0\" width=\"90.4483203125\" height=\"40\" stroke=\"black\" fill=\"white\" stroke-width=\"1\" /><text x=\"3328.8768164062503\" y=\"475.0\" dominant-baseline=\"middle\" text-anchor=\"middle\" font-size=\"14px\" font-family=\"Arial\">Ry(theta88)</text><rect x=\"3394.1009765625004\" y=\"5.0\" width=\"90.28179687500001\" height=\"40\" stroke=\"black\" fill=\"white\" stroke-width=\"1\" /><text x=\"3439.241875\" y=\"25.0\" dominant-baseline=\"middle\" text-anchor=\"middle\" font-size=\"14px\" font-family=\"Arial\">Rz(theta62)</text><rect x=\"3394.1009765625004\" y=\"55.0\" width=\"90.28179687500001\" height=\"40\" stroke=\"black\" fill=\"white\" stroke-width=\"1\" /><text x=\"3439.241875\" y=\"75.0\" dominant-baseline=\"middle\" text-anchor=\"middle\" font-size=\"14px\" font-family=\"Arial\">Rz(theta65)</text><rect x=\"3394.1009765625004\" y=\"105.0\" width=\"90.28179687500001\" height=\"40\" stroke=\"black\" fill=\"white\" stroke-width=\"1\" /><text x=\"3439.241875\" y=\"125.0\" dominant-baseline=\"middle\" text-anchor=\"middle\" font-size=\"14px\" font-family=\"Arial\">Rz(theta68)</text><rect x=\"3394.1009765625004\" y=\"155.0\" width=\"90.28179687500001\" height=\"40\" stroke=\"black\" fill=\"white\" stroke-width=\"1\" /><text x=\"3439.241875\" y=\"175.0\" dominant-baseline=\"middle\" text-anchor=\"middle\" font-size=\"14px\" font-family=\"Arial\">Rz(theta71)</text><rect x=\"3394.1009765625004\" y=\"205.0\" width=\"90.28179687500001\" height=\"40\" stroke=\"black\" fill=\"white\" stroke-width=\"1\" /><text x=\"3439.241875\" y=\"225.0\" dominant-baseline=\"middle\" text-anchor=\"middle\" font-size=\"14px\" font-family=\"Arial\">Rz(theta74)</text><rect x=\"3394.1009765625004\" y=\"255.0\" width=\"90.28179687500001\" height=\"40\" stroke=\"black\" fill=\"white\" stroke-width=\"1\" /><text x=\"3439.241875\" y=\"275.0\" dominant-baseline=\"middle\" text-anchor=\"middle\" font-size=\"14px\" font-family=\"Arial\">Rz(theta77)</text><rect x=\"3394.1009765625004\" y=\"305.0\" width=\"90.28179687500001\" height=\"40\" stroke=\"black\" fill=\"white\" stroke-width=\"1\" /><text x=\"3439.241875\" y=\"325.0\" dominant-baseline=\"middle\" text-anchor=\"middle\" font-size=\"14px\" font-family=\"Arial\">Rz(theta80)</text><rect x=\"3394.1009765625004\" y=\"355.0\" width=\"90.28179687500001\" height=\"40\" stroke=\"black\" fill=\"white\" stroke-width=\"1\" /><text x=\"3439.241875\" y=\"375.0\" dominant-baseline=\"middle\" text-anchor=\"middle\" font-size=\"14px\" font-family=\"Arial\">Rz(theta83)</text><rect x=\"3394.1009765625004\" y=\"405.0\" width=\"90.28179687500001\" height=\"40\" stroke=\"black\" fill=\"white\" stroke-width=\"1\" /><text x=\"3439.241875\" y=\"425.0\" dominant-baseline=\"middle\" text-anchor=\"middle\" font-size=\"14px\" font-family=\"Arial\">Rz(theta86)</text><rect x=\"3394.1009765625004\" y=\"455.0\" width=\"90.28179687500001\" height=\"40\" stroke=\"black\" fill=\"white\" stroke-width=\"1\" /><text x=\"3439.241875\" y=\"475.0\" dominant-baseline=\"middle\" text-anchor=\"middle\" font-size=\"14px\" font-family=\"Arial\">Rz(theta89)</text><circle cx=\"3524.3827734375004\" cy=\"25.0\" r=\"10.0\" /><circle cx=\"3524.3827734375004\" cy=\"75.0\" r=\"10.0\" /><circle cx=\"3584.3827734375004\" cy=\"75.0\" r=\"10.0\" /><circle cx=\"3584.3827734375004\" cy=\"125.0\" r=\"10.0\" /><circle cx=\"3644.3827734375004\" cy=\"125.0\" r=\"10.0\" /><circle cx=\"3644.3827734375004\" cy=\"175.0\" r=\"10.0\" /><circle cx=\"3704.3827734375004\" cy=\"175.0\" r=\"10.0\" /><circle cx=\"3704.3827734375004\" cy=\"225.0\" r=\"10.0\" /><circle cx=\"3764.3827734375004\" cy=\"225.0\" r=\"10.0\" /><circle cx=\"3764.3827734375004\" cy=\"275.0\" r=\"10.0\" /><circle cx=\"3824.3827734375004\" cy=\"275.0\" r=\"10.0\" /><circle cx=\"3824.3827734375004\" cy=\"325.0\" r=\"10.0\" /><circle cx=\"3884.3827734375004\" cy=\"325.0\" r=\"10.0\" /><circle cx=\"3884.3827734375004\" cy=\"375.0\" r=\"10.0\" /><circle cx=\"3944.3827734375004\" cy=\"375.0\" r=\"10.0\" /><circle cx=\"3944.3827734375004\" cy=\"425.0\" r=\"10.0\" /><circle cx=\"4004.3827734375004\" cy=\"425.0\" r=\"10.0\" /><circle cx=\"4004.3827734375004\" cy=\"475.0\" r=\"10.0\" /><circle cx=\"4064.3827734375004\" cy=\"475.0\" r=\"10.0\" /><circle cx=\"4064.3827734375004\" cy=\"25.0\" r=\"10.0\" /><rect x=\"4104.382773437501\" y=\"505.0\" width=\"72.9598046875\" height=\"40\" stroke=\"black\" fill=\"white\" stroke-width=\"1\" /><text x=\"4140.862675781251\" y=\"525.0\" dominant-baseline=\"middle\" text-anchor=\"middle\" font-size=\"14px\" font-family=\"Arial\">@^zeta4</text><circle cx=\"4140.862675781251\" cy=\"25.0\" r=\"10.0\" /><rect x=\"4197.342578125001\" y=\"505.0\" width=\"72.5223046875\" height=\"40\" stroke=\"black\" fill=\"white\" stroke-width=\"1\" /><text x=\"4233.603730468751\" y=\"525.0\" dominant-baseline=\"middle\" text-anchor=\"middle\" font-size=\"14px\" font-family=\"Arial\">@^zeta5</text><circle cx=\"4233.603730468751\" cy=\"475.0\" r=\"10.0\" /><rect x=\"4289.864882812501\" y=\"505.0\" width=\"40\" height=\"40\" stroke=\"black\" fill=\"white\" stroke-width=\"1\" /><text x=\"4309.864882812501\" y=\"525.0\" dominant-baseline=\"middle\" text-anchor=\"middle\" font-size=\"18px\" font-family=\"Arial\">X</text><rect x=\"4349.864882812501\" y=\"505.0\" width=\"81.72265625000001\" height=\"40\" stroke=\"black\" fill=\"white\" stroke-width=\"1\" /><text x=\"4390.726210937501\" y=\"525.0\" dominant-baseline=\"middle\" text-anchor=\"middle\" font-size=\"14px\" font-family=\"Arial\">@^zeta10</text><circle cx=\"4390.726210937501\" cy=\"25.0\" r=\"10.0\" /><rect x=\"4451.587539062501\" y=\"505.0\" width=\"81.35953125\" height=\"40\" stroke=\"black\" fill=\"white\" stroke-width=\"1\" /><text x=\"4492.267304687501\" y=\"525.0\" dominant-baseline=\"middle\" text-anchor=\"middle\" font-size=\"14px\" font-family=\"Arial\">@^zeta11</text><circle cx=\"4492.267304687501\" cy=\"475.0\" r=\"10.0\" /><rect x=\"4552.947070312501\" y=\"505.0\" width=\"40\" height=\"40\" stroke=\"black\" fill=\"white\" stroke-width=\"1\" /><text x=\"4572.947070312501\" y=\"525.0\" dominant-baseline=\"middle\" text-anchor=\"middle\" font-size=\"18px\" font-family=\"Arial\">X</text><rect x=\"4612.947070312501\" y=\"5.0\" width=\"69.45953125\" height=\"40\" stroke=\"black\" fill=\"white\" stroke-width=\"1\" /><text x=\"4647.676835937501\" y=\"25.0\" dominant-baseline=\"middle\" text-anchor=\"middle\" font-size=\"14px\" font-family=\"Arial\">Rx(x6_2)</text><rect x=\"4612.947070312501\" y=\"55.0\" width=\"69.45953125\" height=\"40\" stroke=\"black\" fill=\"white\" stroke-width=\"1\" /><text x=\"4647.676835937501\" y=\"75.0\" dominant-baseline=\"middle\" text-anchor=\"middle\" font-size=\"14px\" font-family=\"Arial\">Rx(x7_0)</text><rect x=\"4612.947070312501\" y=\"105.0\" width=\"69.45953125\" height=\"40\" stroke=\"black\" fill=\"white\" stroke-width=\"1\" /><text x=\"4647.676835937501\" y=\"125.0\" dominant-baseline=\"middle\" text-anchor=\"middle\" font-size=\"14px\" font-family=\"Arial\">Rx(x7_1)</text><rect x=\"4612.947070312501\" y=\"155.0\" width=\"69.45953125\" height=\"40\" stroke=\"black\" fill=\"white\" stroke-width=\"1\" /><text x=\"4647.676835937501\" y=\"175.0\" dominant-baseline=\"middle\" text-anchor=\"middle\" font-size=\"14px\" font-family=\"Arial\">Rx(x7_2)</text><rect x=\"4612.947070312501\" y=\"205.0\" width=\"69.45953125\" height=\"40\" stroke=\"black\" fill=\"white\" stroke-width=\"1\" /><text x=\"4647.676835937501\" y=\"225.0\" dominant-baseline=\"middle\" text-anchor=\"middle\" font-size=\"14px\" font-family=\"Arial\">Rx(x8_0)</text><rect x=\"4612.947070312501\" y=\"255.0\" width=\"69.45953125\" height=\"40\" stroke=\"black\" fill=\"white\" stroke-width=\"1\" /><text x=\"4647.676835937501\" y=\"275.0\" dominant-baseline=\"middle\" text-anchor=\"middle\" font-size=\"14px\" font-family=\"Arial\">Rx(x8_1)</text><rect x=\"4612.947070312501\" y=\"305.0\" width=\"69.45953125\" height=\"40\" stroke=\"black\" fill=\"white\" stroke-width=\"1\" /><text x=\"4647.676835937501\" y=\"325.0\" dominant-baseline=\"middle\" text-anchor=\"middle\" font-size=\"14px\" font-family=\"Arial\">Rx(x8_2)</text><rect x=\"4612.947070312501\" y=\"355.0\" width=\"69.45953125\" height=\"40\" stroke=\"black\" fill=\"white\" stroke-width=\"1\" /><text x=\"4647.676835937501\" y=\"375.0\" dominant-baseline=\"middle\" text-anchor=\"middle\" font-size=\"14px\" font-family=\"Arial\">Rx(x9_0)</text><rect x=\"4612.947070312501\" y=\"405.0\" width=\"69.45953125\" height=\"40\" stroke=\"black\" fill=\"white\" stroke-width=\"1\" /><text x=\"4647.676835937501\" y=\"425.0\" dominant-baseline=\"middle\" text-anchor=\"middle\" font-size=\"14px\" font-family=\"Arial\">Rx(x9_1)</text><rect x=\"4612.947070312501\" y=\"455.0\" width=\"69.45953125\" height=\"40\" stroke=\"black\" fill=\"white\" stroke-width=\"1\" /><text x=\"4647.676835937501\" y=\"475.0\" dominant-baseline=\"middle\" text-anchor=\"middle\" font-size=\"14px\" font-family=\"Arial\">Rx(x9_2)</text><rect x=\"4702.4066015625\" y=\"5.0\" width=\"100.12554687500001\" height=\"40\" stroke=\"black\" fill=\"white\" stroke-width=\"1\" /><text x=\"4752.469375000001\" y=\"25.0\" dominant-baseline=\"middle\" text-anchor=\"middle\" font-size=\"14px\" font-family=\"Arial\">Rx(theta90)</text><rect x=\"4702.4066015625\" y=\"55.0\" width=\"100.12554687500001\" height=\"40\" stroke=\"black\" fill=\"white\" stroke-width=\"1\" /><text x=\"4752.469375000001\" y=\"75.0\" dominant-baseline=\"middle\" text-anchor=\"middle\" font-size=\"14px\" font-family=\"Arial\">Rx(theta93)</text><rect x=\"4702.4066015625\" y=\"105.0\" width=\"100.12554687500001\" height=\"40\" stroke=\"black\" fill=\"white\" stroke-width=\"1\" /><text x=\"4752.469375000001\" y=\"125.0\" dominant-baseline=\"middle\" text-anchor=\"middle\" font-size=\"14px\" font-family=\"Arial\">Rx(theta96)</text><rect x=\"4702.4066015625\" y=\"155.0\" width=\"100.12554687500001\" height=\"40\" stroke=\"black\" fill=\"white\" stroke-width=\"1\" /><text x=\"4752.469375000001\" y=\"175.0\" dominant-baseline=\"middle\" text-anchor=\"middle\" font-size=\"14px\" font-family=\"Arial\">Rx(theta99)</text><rect x=\"4702.4066015625\" y=\"205.0\" width=\"100.12554687500001\" height=\"40\" stroke=\"black\" fill=\"white\" stroke-width=\"1\" /><text x=\"4752.469375000001\" y=\"225.0\" dominant-baseline=\"middle\" text-anchor=\"middle\" font-size=\"14px\" font-family=\"Arial\">Rx(theta102)</text><rect x=\"4702.4066015625\" y=\"255.0\" width=\"100.12554687500001\" height=\"40\" stroke=\"black\" fill=\"white\" stroke-width=\"1\" /><text x=\"4752.469375000001\" y=\"275.0\" dominant-baseline=\"middle\" text-anchor=\"middle\" font-size=\"14px\" font-family=\"Arial\">Rx(theta105)</text><rect x=\"4702.4066015625\" y=\"305.0\" width=\"100.12554687500001\" height=\"40\" stroke=\"black\" fill=\"white\" stroke-width=\"1\" /><text x=\"4752.469375000001\" y=\"325.0\" dominant-baseline=\"middle\" text-anchor=\"middle\" font-size=\"14px\" font-family=\"Arial\">Rx(theta108)</text><rect x=\"4702.4066015625\" y=\"355.0\" width=\"100.12554687500001\" height=\"40\" stroke=\"black\" fill=\"white\" stroke-width=\"1\" /><text x=\"4752.469375000001\" y=\"375.0\" dominant-baseline=\"middle\" text-anchor=\"middle\" font-size=\"14px\" font-family=\"Arial\">Rx(theta111)</text><rect x=\"4702.4066015625\" y=\"405.0\" width=\"100.12554687500001\" height=\"40\" stroke=\"black\" fill=\"white\" stroke-width=\"1\" /><text x=\"4752.469375000001\" y=\"425.0\" dominant-baseline=\"middle\" text-anchor=\"middle\" font-size=\"14px\" font-family=\"Arial\">Rx(theta114)</text><rect x=\"4702.4066015625\" y=\"455.0\" width=\"100.12554687500001\" height=\"40\" stroke=\"black\" fill=\"white\" stroke-width=\"1\" /><text x=\"4752.469375000001\" y=\"475.0\" dominant-baseline=\"middle\" text-anchor=\"middle\" font-size=\"14px\" font-family=\"Arial\">Rx(theta117)</text><rect x=\"4822.5321484375\" y=\"5.0\" width=\"99.355546875\" height=\"40\" stroke=\"black\" fill=\"white\" stroke-width=\"1\" /><text x=\"4872.209921875\" y=\"25.0\" dominant-baseline=\"middle\" text-anchor=\"middle\" font-size=\"14px\" font-family=\"Arial\">Ry(theta91)</text><rect x=\"4822.5321484375\" y=\"55.0\" width=\"99.355546875\" height=\"40\" stroke=\"black\" fill=\"white\" stroke-width=\"1\" /><text x=\"4872.209921875\" y=\"75.0\" dominant-baseline=\"middle\" text-anchor=\"middle\" font-size=\"14px\" font-family=\"Arial\">Ry(theta94)</text><rect x=\"4822.5321484375\" y=\"105.0\" width=\"99.355546875\" height=\"40\" stroke=\"black\" fill=\"white\" stroke-width=\"1\" /><text x=\"4872.209921875\" y=\"125.0\" dominant-baseline=\"middle\" text-anchor=\"middle\" font-size=\"14px\" font-family=\"Arial\">Ry(theta97)</text><rect x=\"4822.5321484375\" y=\"155.0\" width=\"99.355546875\" height=\"40\" stroke=\"black\" fill=\"white\" stroke-width=\"1\" /><text x=\"4872.209921875\" y=\"175.0\" dominant-baseline=\"middle\" text-anchor=\"middle\" font-size=\"14px\" font-family=\"Arial\">Ry(theta100)</text><rect x=\"4822.5321484375\" y=\"205.0\" width=\"99.355546875\" height=\"40\" stroke=\"black\" fill=\"white\" stroke-width=\"1\" /><text x=\"4872.209921875\" y=\"225.0\" dominant-baseline=\"middle\" text-anchor=\"middle\" font-size=\"14px\" font-family=\"Arial\">Ry(theta103)</text><rect x=\"4822.5321484375\" y=\"255.0\" width=\"99.355546875\" height=\"40\" stroke=\"black\" fill=\"white\" stroke-width=\"1\" /><text x=\"4872.209921875\" y=\"275.0\" dominant-baseline=\"middle\" text-anchor=\"middle\" font-size=\"14px\" font-family=\"Arial\">Ry(theta106)</text><rect x=\"4822.5321484375\" y=\"305.0\" width=\"99.355546875\" height=\"40\" stroke=\"black\" fill=\"white\" stroke-width=\"1\" /><text x=\"4872.209921875\" y=\"325.0\" dominant-baseline=\"middle\" text-anchor=\"middle\" font-size=\"14px\" font-family=\"Arial\">Ry(theta109)</text><rect x=\"4822.5321484375\" y=\"355.0\" width=\"99.355546875\" height=\"40\" stroke=\"black\" fill=\"white\" stroke-width=\"1\" /><text x=\"4872.209921875\" y=\"375.0\" dominant-baseline=\"middle\" text-anchor=\"middle\" font-size=\"14px\" font-family=\"Arial\">Ry(theta112)</text><rect x=\"4822.5321484375\" y=\"405.0\" width=\"99.355546875\" height=\"40\" stroke=\"black\" fill=\"white\" stroke-width=\"1\" /><text x=\"4872.209921875\" y=\"425.0\" dominant-baseline=\"middle\" text-anchor=\"middle\" font-size=\"14px\" font-family=\"Arial\">Ry(theta115)</text><rect x=\"4822.5321484375\" y=\"455.0\" width=\"99.355546875\" height=\"40\" stroke=\"black\" fill=\"white\" stroke-width=\"1\" /><text x=\"4872.209921875\" y=\"475.0\" dominant-baseline=\"middle\" text-anchor=\"middle\" font-size=\"14px\" font-family=\"Arial\">Ry(theta118)</text><rect x=\"4941.8876953125\" y=\"5.0\" width=\"99.18902343750001\" height=\"40\" stroke=\"black\" fill=\"white\" stroke-width=\"1\" /><text x=\"4991.48220703125\" y=\"25.0\" dominant-baseline=\"middle\" text-anchor=\"middle\" font-size=\"14px\" font-family=\"Arial\">Rz(theta92)</text><rect x=\"4941.8876953125\" y=\"55.0\" width=\"99.18902343750001\" height=\"40\" stroke=\"black\" fill=\"white\" stroke-width=\"1\" /><text x=\"4991.48220703125\" y=\"75.0\" dominant-baseline=\"middle\" text-anchor=\"middle\" font-size=\"14px\" font-family=\"Arial\">Rz(theta95)</text><rect x=\"4941.8876953125\" y=\"105.0\" width=\"99.18902343750001\" height=\"40\" stroke=\"black\" fill=\"white\" stroke-width=\"1\" /><text x=\"4991.48220703125\" y=\"125.0\" dominant-baseline=\"middle\" text-anchor=\"middle\" font-size=\"14px\" font-family=\"Arial\">Rz(theta98)</text><rect x=\"4941.8876953125\" y=\"155.0\" width=\"99.18902343750001\" height=\"40\" stroke=\"black\" fill=\"white\" stroke-width=\"1\" /><text x=\"4991.48220703125\" y=\"175.0\" dominant-baseline=\"middle\" text-anchor=\"middle\" font-size=\"14px\" font-family=\"Arial\">Rz(theta101)</text><rect x=\"4941.8876953125\" y=\"205.0\" width=\"99.18902343750001\" height=\"40\" stroke=\"black\" fill=\"white\" stroke-width=\"1\" /><text x=\"4991.48220703125\" y=\"225.0\" dominant-baseline=\"middle\" text-anchor=\"middle\" font-size=\"14px\" font-family=\"Arial\">Rz(theta104)</text><rect x=\"4941.8876953125\" y=\"255.0\" width=\"99.18902343750001\" height=\"40\" stroke=\"black\" fill=\"white\" stroke-width=\"1\" /><text x=\"4991.48220703125\" y=\"275.0\" dominant-baseline=\"middle\" text-anchor=\"middle\" font-size=\"14px\" font-family=\"Arial\">Rz(theta107)</text><rect x=\"4941.8876953125\" y=\"305.0\" width=\"99.18902343750001\" height=\"40\" stroke=\"black\" fill=\"white\" stroke-width=\"1\" /><text x=\"4991.48220703125\" y=\"325.0\" dominant-baseline=\"middle\" text-anchor=\"middle\" font-size=\"14px\" font-family=\"Arial\">Rz(theta110)</text><rect x=\"4941.8876953125\" y=\"355.0\" width=\"99.18902343750001\" height=\"40\" stroke=\"black\" fill=\"white\" stroke-width=\"1\" /><text x=\"4991.48220703125\" y=\"375.0\" dominant-baseline=\"middle\" text-anchor=\"middle\" font-size=\"14px\" font-family=\"Arial\">Rz(theta113)</text><rect x=\"4941.8876953125\" y=\"405.0\" width=\"99.18902343750001\" height=\"40\" stroke=\"black\" fill=\"white\" stroke-width=\"1\" /><text x=\"4991.48220703125\" y=\"425.0\" dominant-baseline=\"middle\" text-anchor=\"middle\" font-size=\"14px\" font-family=\"Arial\">Rz(theta116)</text><rect x=\"4941.8876953125\" y=\"455.0\" width=\"99.18902343750001\" height=\"40\" stroke=\"black\" fill=\"white\" stroke-width=\"1\" /><text x=\"4991.48220703125\" y=\"475.0\" dominant-baseline=\"middle\" text-anchor=\"middle\" font-size=\"14px\" font-family=\"Arial\">Rz(theta119)</text><rect x=\"5061.07671875\" y=\"505.0\" width=\"40\" height=\"40\" stroke=\"black\" fill=\"white\" stroke-width=\"1\" /><text x=\"5081.07671875\" y=\"525.0\" dominant-baseline=\"middle\" text-anchor=\"middle\" font-size=\"18px\" font-family=\"Arial\">H</text></svg>",
            "text/plain": [
              "<cirq.contrib.svg.svg.SVGCircuit at 0x7f5505115c40>"
            ]
          },
          "execution_count": 6,
          "metadata": {},
          "output_type": "execute_result"
        }
      ],
      "source": [
        "#test circuit\n",
        "n_qubits, n_layers = 11, 3\n",
        "qubits = cirq.GridQubit.rect(1, n_qubits)\n",
        "circuit, bp, tp, ip = gen_cont_circ(qubits, n_layers, real = True)\n",
        "SVGCircuit(circuit)"
      ]
    },
    {
      "cell_type": "markdown",
      "metadata": {
        "id": "F2bxLIXqlQxZ"
      },
      "source": [
        "## Convert to a tensorflow model\n",
        "taking the circuits generators from the previous model we can stitch the models together in a custom keras model.\n"
      ]
    },
    {
      "cell_type": "code",
      "execution_count": 7,
      "metadata": {
        "id": "VpXjD9tUlUqX"
      },
      "outputs": [],
      "source": [
        "class gen_comb_model(tf.keras.Model):\n",
        "  \"\"\"Generates the shit out of a model\"\"\"\n",
        "  def __init__(self, n, d, K, L, input_dim = 5):\n",
        "    \"\"\"initalise, n is number of qubits in each PQC, d is the depth of the PQC\n",
        "    K is the number of terms in the product, L is the number of terms in the sum\"\"\"\n",
        "    super().__init__()\n",
        "    self.n = n\n",
        "    self.d = d\n",
        "    self.K = K\n",
        "    self.L = L\n",
        "    self.size_of_split=n\n",
        "\n",
        "    # qubits, observable, define circuit\n",
        "    qubits = cirq.GridQubit.rect(1, self.n+1)\n",
        "    ops = [cirq.Z(q) for q in qubits]\n",
        "    observables = [reduce((lambda x, y: x * y), ops)] # Z_0*Z_1*Z_2*Z_3\n",
        "    #define circuit and imaginary circuit,\n",
        "    circuit, bravyi_params, theta_symbols, input_symbols  = gen_cont_circ(qubits, d)\n",
        "    circuiti, _,              _,              _            = gen_cont_circ(qubits, d, real=False)\n",
        "    #print(circuit)\n",
        "\n",
        "    # define PQC weights and that shit\n",
        "    #regular weights, the thetas\n",
        "    theta_init = tf.random_uniform_initializer(minval=0.0, maxval=np.pi)\n",
        "    self.theta = tf.Variable(\n",
        "        initial_value=theta_init(shape=(1, len(theta_symbols)*K), dtype=\"float32\"),\n",
        "        trainable=True, name=\"thetas\")\n",
        "    self.individual_product_term_theta_size = len(theta_symbols)\n",
        "\n",
        "    #weights to multiply by the training data, previously called lmbd in a move that wont be ridiculously confusing here.\n",
        "    alphas_init = tf.ones(shape=(len(input_symbols)*K,))\n",
        "    self.alphas = tf.Variable(\n",
        "        initial_value=alphas_init, dtype=\"float32\", trainable=True, name=\"alphas\"\n",
        "    )\n",
        "    self.input_dim = len(input_symbols)*K\n",
        "\n",
        "    #other shit\n",
        "    self.activation = \"linear\"\n",
        "    self.empty_circuit = tfq.convert_to_tensor([cirq.Circuit()])\n",
        "    self.computation_layer = tfq.layers.ControlledPQC(circuit, observables)\n",
        "    self.imag_computation_layer = tfq.layers.ControlledPQC(circuiti, observables)\n",
        "    self.flatten = tf.keras.layers.Flatten(input_shape=(input_dim,input_dim))\n",
        "\n",
        "    # define explicit order for symbols\n",
        "    symbols = [str(symb) for symb in theta_symbols+input_symbols+bravyi_params ]\n",
        "    self.indices = tf.constant([symbols.index(a) for a in sorted(symbols)])\n",
        "    \n",
        "    # define zeta parameters\n",
        "    zeta_init = tf.random_uniform_initializer(minval=0.0, maxval=np.pi)\n",
        "    self.zeta = tf.Variable(\n",
        "        initial_value=zeta_init(shape=(L,K, len(bravyi_params)), dtype=\"float32\"),\n",
        "        trainable=True, name=\"zetas\")\n",
        "    \n",
        "    # define lambdas\n",
        "    rescale_parameter=1 #may need modifying later (lol)\n",
        "    lambdas_init = tf.ones(shape=(L,))*rescale_parameter\n",
        "    self.lambdas = tf.Variable(initial_value=lambdas_init, dtype=\"float32\", trainable=True, name=\"lambdas\")\n",
        "\n",
        "  def giveZetas(self):\n",
        "    return self.zeta\n",
        "\n",
        "  def giveIndices(self):\n",
        "    return self.indices\n",
        "\n",
        "  def normalise_lambdas(self, inputs):\n",
        "    \"\"\"the outputs of the products are much much smaller than the lambdas that \n",
        "    multiply them this means the output of the whole ciruit is so fucking tiny.\n",
        "    To remedy this, this function will take a set of inputs, and then set lambdas\n",
        "    to 1/L x {the average magnitude of the inputs}\n",
        "    \"\"\"\n",
        "    #A huge amount is copied directly from the call function\n",
        "    #gather amount of data points\n",
        "    batch_dim = tf.gather(tf.shape(inputs[0]), 0)\n",
        "    #copy thetas and inputs for inputs\n",
        "    tiled_up_thetas = tf.tile(self.theta, multiples=[batch_dim, 1])\n",
        "    inputs = [self.flatten(inputs[0])]\n",
        "    tiled_up_inputs = tf.tile(inputs[0], multiples=[1, self.d])#need double the amount of input copies\n",
        "    scaled_inputs = tf.einsum(\"i,ji->ji\", self.alphas, tiled_up_inputs)# This needs to be worked in, we should apply alphas before dividing it\n",
        "    squashed_inputs = tf.keras.layers.Activation(self.activation)(tiled_up_inputs)\n",
        "    \n",
        "    for j in range(self.L):\n",
        "      PQC_layer_ans = tf.complex(tf.ones([batch_dim, 1]),tf.zeros([batch_dim, 1]))#the complex number for the product part of the calculation\n",
        "      for i in range(self.K):\n",
        "        #rack up some circuits to use in the PQC\n",
        "        tiled_up_circuits = tf.repeat(self.empty_circuit, repeats=batch_dim)\n",
        "        tiled_up_circuitsi= tf.repeat(self.empty_circuit, repeats=batch_dim) \n",
        "\n",
        "        #take the inputs for this circuit\n",
        "        our_inputs =tf.slice(squashed_inputs, [0,i*self.n], [batch_dim, self.n*self.d])\n",
        "        ####################################################################################################################################################HERE YOU MIGHT WANT TO CHANGE THE WAY WE PICK INPUTS, ITS IMPORTANT WE dont try and select parts of the input vector that dont exist\n",
        "        \n",
        "        # take the thetas we want\n",
        "        our_thetas = tf.slice(tiled_up_thetas, [0,i*self.individual_product_term_theta_size], [batch_dim, self.individual_product_term_theta_size])\n",
        "        \n",
        "        #add in zetas\n",
        "        our_zeta = tf.slice(self.zeta, [j,i,0], [1,1,-1])\n",
        "        tileup_our_zeta = tf.reshape(our_zeta, our_zeta.shape[1:])\n",
        "        tiled_zeta = tf.tile(tileup_our_zeta, multiples = [batch_dim, 1])\n",
        "        # put it all together\n",
        "        joined_vars = tf.concat([our_thetas, our_inputs, tiled_zeta], axis=1)\n",
        "        #print(\"b4\", joined_vars)\n",
        "        joined_vars = tf.gather(joined_vars, self.indices, axis=1)\n",
        "        #print(\"A\", joined_vars)\n",
        "        computation = tf.complex(self.computation_layer([tiled_up_circuits, joined_vars]),self.imag_computation_layer([tiled_up_circuitsi, joined_vars]))\n",
        "        \n",
        "        PQC_layer_ans = tf.math.multiply(computation, PQC_layer_ans)\n",
        "          \n",
        "      PQC_layer_ans = tf.math.real(PQC_layer_ans)\n",
        "      abs_recipricol_PQC_layer_ans = tf.math.abs(tf.math.reciprocal(PQC_layer_ans))\n",
        "      lambda_rescaling = tf.math.reduce_sum(abs_recipricol_PQC_layer_ans)  /   (L*batch_dim.numpy())\n",
        "      self.lambdas[j].assign(23.)#lambda_rescaling)\n",
        "      print(lambda_rescaling)\n",
        "\n",
        "  def call(self, inputs):\n",
        "    #lets keep it simple in this run, copy the circuit outputs for each different parameters, ew can put through multiple parameters at another time.\n",
        "    #gather amount of data points\n",
        "    batch_dim = tf.gather(tf.shape(inputs[0]), 0)\n",
        "    #copy thetas and inputs for inputs\n",
        "    tiled_up_thetas = tf.tile(self.theta, multiples=[batch_dim, 1])\n",
        "    inputs = [self.flatten(inputs[0])]\n",
        "    tiled_up_inputs = tf.tile(inputs[0], multiples=[1, self.d])#need double the amount of input copies\n",
        "    scaled_inputs = tf.einsum(\"i,ji->ji\", self.alphas, tiled_up_inputs)# This needs to be worked in, we should apply alphas before dividing it\n",
        "    squashed_inputs = tf.keras.layers.Activation(self.activation)(tiled_up_inputs)\n",
        "    \n",
        "    #hold hte circuit outputs for each input\n",
        "    ans = tf.zeros([batch_dim, 1])\n",
        "    for j in range(self.L):\n",
        "      PQC_layer_ans = tf.complex(tf.ones([batch_dim, 1]),tf.zeros([batch_dim, 1]))#the complex number for the product part of the calculation\n",
        "      for i in range(self.K):\n",
        "        #rack up some circuits to use in the PQC\n",
        "        tiled_up_circuits = tf.repeat(self.empty_circuit, repeats=batch_dim)\n",
        "        tiled_up_circuitsi= tf.repeat(self.empty_circuit, repeats=batch_dim) \n",
        "\n",
        "        #take the inputs for this circuit\n",
        "        our_inputs =tf.slice(squashed_inputs, [0,i*self.n], [batch_dim, self.n*self.d])\n",
        "        ####################################################################################################################################################HERE YOU MIGHT WANT TO CHANGE THE WAY WE PICK INPUTS, ITS IMPORTANT WE dont try and select parts of the input vector that dont exist\n",
        "        \n",
        "        # take the thetas we want\n",
        "        our_thetas = tf.slice(tiled_up_thetas, [0,i*self.individual_product_term_theta_size], [batch_dim, self.individual_product_term_theta_size])\n",
        "        \n",
        "        #add in zetas\n",
        "        our_zeta = tf.slice(self.zeta, [j,i,0], [1,1,-1])\n",
        "        tileup_our_zeta = tf.reshape(our_zeta, our_zeta.shape[1:])\n",
        "        tiled_zeta = tf.tile(tileup_our_zeta, multiples = [batch_dim, 1])\n",
        "        # put it all together\n",
        "        joined_vars = tf.concat([our_thetas, our_inputs, tiled_zeta], axis=1)\n",
        "        #print(\"b4\", joined_vars)\n",
        "        joined_vars = tf.gather(joined_vars, self.indices, axis=1)\n",
        "        #print(\"A\", joined_vars)\n",
        "        computation = tf.complex(self.computation_layer([tiled_up_circuits, joined_vars]),self.imag_computation_layer([tiled_up_circuitsi, joined_vars]))\n",
        "        \n",
        "        PQC_layer_ans = tf.math.multiply(computation, PQC_layer_ans)\n",
        "      lambdas = tf.math.exp(self.lambdas[j])\n",
        "      PQC_layer_ans = tf.math.real(PQC_layer_ans) #when adding, all imag terms will cancel anyway\n",
        "      ans = tf.math.add(lambdas*PQC_layer_ans, ans) # multiply the product by the weight lambda and throw it on the pile\n",
        "    return ans\n"
      ]
    },
    {
      "cell_type": "markdown",
      "metadata": {
        "id": "AS6fszYZjq-O"
      },
      "source": [
        "# Get data"
      ]
    },
    {
      "cell_type": "code",
      "execution_count": 8,
      "metadata": {
        "colab": {
          "base_uri": "https://localhost:8080/"
        },
        "id": "OUxxhfjOjwyB",
        "outputId": "289369a4-3df6-4961-eb56-43b57c42ff51"
      },
      "outputs": [
        {
          "name": "stdout",
          "output_type": "stream",
          "text": [
            "Number of original training examples: 60000\n",
            "Number of original test examples: 10000\n"
          ]
        }
      ],
      "source": [
        "(x_train, y_train), (x_test, y_test) = tf.keras.datasets.mnist.load_data()\n",
        "\n",
        "# Rescale the images from [0,255] to the [0.0,1.0] range.\n",
        "x_train, x_test = x_train[..., np.newaxis]/255.0, x_test[..., np.newaxis]/255.0\n",
        "\n",
        "print(\"Number of original training examples:\", len(x_train))\n",
        "print(\"Number of original test examples:\", len(x_test))"
      ]
    },
    {
      "cell_type": "code",
      "execution_count": 9,
      "metadata": {
        "colab": {
          "base_uri": "https://localhost:8080/"
        },
        "id": "mtAcG6Zyl96s",
        "outputId": "3c1c38e8-7064-49b6-c912-55c2fbf6936c"
      },
      "outputs": [
        {
          "name": "stdout",
          "output_type": "stream",
          "text": [
            "(12049, 28, 28, 1)\n",
            "Number of filtered training examples: 12049\n",
            "Number of filtered test examples: 1968\n"
          ]
        }
      ],
      "source": [
        "def filter_36(x, y):\n",
        "    keep = (y == 3) | (y == 6)\n",
        "    x, y = x[keep], y[keep]\n",
        "    y = y == 3\n",
        "    return x,y\n",
        "\n",
        "x_train, y_train = filter_36(x_train, y_train)\n",
        "x_test, y_test = filter_36(x_test, y_test)\n",
        "print(x_train.shape)\n",
        "print(\"Number of filtered training examples:\", len(x_train))\n",
        "print(\"Number of filtered test examples:\", len(x_test))"
      ]
    },
    {
      "cell_type": "markdown",
      "metadata": {
        "id": "uKxs5-L7v5OQ"
      },
      "source": [
        "Often the number of data sets we get just isnt enough for the amount of training we have to do, so lets augment our training set with some data that we create by adding a shear function."
      ]
    },
    {
      "cell_type": "code",
      "execution_count": 10,
      "metadata": {
        "colab": {
          "base_uri": "https://localhost:8080/"
        },
        "id": "5uFHker8rU2d",
        "outputId": "674ae341-c84d-452a-a7ff-b0d59bc05504"
      },
      "outputs": [
        {
          "name": "stdout",
          "output_type": "stream",
          "text": [
            "(12049, 28, 28, 1) (12049, 28, 28, 1)\n",
            "(60245, 28, 28, 1)\n"
          ]
        }
      ],
      "source": [
        "augment_data_sets =  int(arguments_passed[1]*0.4)#how many multiples of the data set should we create, should be 0.4*number of epochs\n",
        "data_set_size = len(x_train)\n",
        "\n",
        "play_ds = x_train[0:data_set_size,:,:,0]\n",
        "reshaped_ds = play_ds.reshape((data_set_size,28,28,1))\n",
        "y_train_ds = y_train[0:data_set_size]\n",
        "play_ds = np.copy(reshaped_ds)\n",
        "play_y = np.copy(y_train_ds)\n",
        "print(play_ds.shape, reshaped_ds.shape)\n",
        "\n",
        "datagen = tf.keras.preprocessing.image.ImageDataGenerator(rotation_range=0, shear_range=30.0, zoom_range=0.10)\n",
        "datagen.fit(reshaped_ds)\n",
        "\n",
        "\n",
        "for i in range(augment_data_sets):\n",
        "  dgflow = datagen.flow(reshaped_ds, y_train_ds, batch_size=data_set_size)\n",
        "  newData = next(dgflow)\n",
        "  x_ds, y_ds =newData\n",
        "  #x_ds = x_ds.reshape(data_set_size, 28, 28)\n",
        "  play_ds = np.concatenate((play_ds,x_ds))\n",
        "  play_y = np.concatenate((play_y,y_ds))\n",
        "\n",
        "print(play_ds.shape)\n",
        "\n",
        "y_train = play_y\n",
        "x_train=play_ds"
      ]
    },
    {
      "cell_type": "markdown",
      "metadata": {
        "id": "yF-0QA7bmBsb"
      },
      "source": [
        "Downscale the data to fit on our machine"
      ]
    },
    {
      "cell_type": "code",
      "execution_count": 11,
      "metadata": {
        "colab": {
          "base_uri": "https://localhost:8080/",
          "height": 1000
        },
        "id": "2De6KRnpmEMy",
        "outputId": "cc16b722-8d19-4535-d4fc-d6d7dd567cb7"
      },
      "outputs": [
        {
          "name": "stdout",
          "output_type": "stream",
          "text": [
            "True\n"
          ]
        },
        {
          "data": {
            "image/png": "[encoded data removed]",
            "text/plain": [
              "<Figure size 640x480 with 1 Axes>"
            ]
          },
          "metadata": {},
          "output_type": "display_data"
        },
        {
          "name": "stdout",
          "output_type": "stream",
          "text": [
            "True\n"
          ]
        },
        {
          "data": {
            "image/png": "[encoded data removed]",
            "text/plain": [
              "<Figure size 640x480 with 1 Axes>"
            ]
          },
          "metadata": {},
          "output_type": "display_data"
        },
        {
          "name": "stdout",
          "output_type": "stream",
          "text": [
            "True\n"
          ]
        },
        {
          "data": {
            "image/png": "[encoded data removed]",
            "text/plain": [
              "<Figure size 640x480 with 1 Axes>"
            ]
          },
          "metadata": {},
          "output_type": "display_data"
        },
        {
          "name": "stdout",
          "output_type": "stream",
          "text": [
            "False\n"
          ]
        },
        {
          "data": {
            "image/png": "[encoded data removed]",
            "text/plain": [
              "<Figure size 640x480 with 1 Axes>"
            ]
          },
          "metadata": {},
          "output_type": "display_data"
        },
        {
          "name": "stdout",
          "output_type": "stream",
          "text": [
            "False\n"
          ]
        },
        {
          "data": {
            "image/png": "[encoded data removed]",
            "text/plain": [
              "<Figure size 640x480 with 1 Axes>"
            ]
          },
          "metadata": {},
          "output_type": "display_data"
        }
      ],
      "source": [
        "rescale_to = 8\n",
        "x_train_small = tf.image.resize(x_train, (rescale_to,rescale_to)).numpy()\n",
        "x_test_small = tf.image.resize(x_test, (rescale_to,rescale_to)).numpy()\n",
        "for i in range(5):\n",
        "  plt.imshow(x_train_small[i,:,:,0])\n",
        "  print(y_train[i])\n",
        "  plt.show()"
      ]
    },
    {
      "cell_type": "markdown",
      "metadata": {},
      "source": [
        "# Fit\n",
        "With our model and date collected we can simply fit this with keras.fit\n",
        " "
      ]
    },
    {
      "cell_type": "markdown",
      "metadata": {},
      "source": [
        "## Pretraining prep\n",
        "Tweak the data to be in a quantum-friendly format\n",
        "Also a function to let us play with the data in a clearer form"
      ]
    },
    {
      "cell_type": "code",
      "execution_count": 12,
      "metadata": {},
      "outputs": [],
      "source": [
        "y_data= np.array([[int(y_train[i])] for i in range(len(y_train))])\n",
        "x_data=[np.array([x_train_small[i] for i in range(len(x_train_small))])]\n",
        "\n",
        "\n",
        "x_test2 = [np.array([x_test_small[i] for i in range (300)])]\n",
        "peak_set= [np.array([x_test_small[i] for i in range (1)])]\n",
        "\n",
        "#and an absololute test function\n",
        "def model_tester(model, verbose=True, ):\n",
        "  labels = model(x_test2)\n",
        "  right = 0\n",
        "  wrong = 0\n",
        "  for i, val in enumerate(labels):\n",
        "    val = val.numpy()[0]\n",
        "    if (val-y_test[i])**2<0.25:\n",
        "      right+=1\n",
        "    else: wrong+=1\n",
        "  if verbose:\n",
        "    print(\"In the testing set:\")\n",
        "    print(right, \" points classified correctly\\n\", wrong, \" points classified incorrectly\")\n",
        "    print(\"for a classification accuracy of \", round(right/(wrong+right)*100, 2), \"%\")\n",
        "\n",
        "\n"
      ]
    },
    {
      "cell_type": "markdown",
      "metadata": {},
      "source": [
        "## and Train"
      ]
    },
    {
      "cell_type": "code",
      "execution_count": 13,
      "metadata": {},
      "outputs": [
        {
          "name": "stdout",
          "output_type": "stream",
          "text": [
            "n,d,K,L 8 3 8 1\n",
            "tf.Tensor(121425090000.0, shape=(), dtype=float32)\n",
            "Epoch 1/10\n",
            "WARNING:tensorflow:Gradients do not exist for variables ['alphas:0'] when minimizing the loss. If you're using `model.compile()`, did you forget to provide a `loss`argument?\n",
            "WARNING:tensorflow:Gradients do not exist for variables ['alphas:0'] when minimizing the loss. If you're using `model.compile()`, did you forget to provide a `loss`argument?\n",
            "150/150 [==============================] - 150s 935ms/step - loss: 0.4670 - val_loss: 0.4163\n",
            "Epoch 2/10\n",
            "150/150 [==============================] - 136s 907ms/step - loss: 0.3510 - val_loss: 0.3076\n",
            "Epoch 3/10\n",
            " 89/150 [================>.............] - ETA: 50s - loss: 0.2880"
          ]
        }
      ],
      "source": [
        "n,d,K,L = 8, 3, 8, arguments_passed[0]\n",
        "print(\"n,d,K,L\", n,d,K,L)\n",
        "if len(arguments_passed)<3:\n",
        "  arguments_passed.append(1)\n",
        "numb_repititions = arguments_passed[2]\n",
        "verbose = 2\n",
        "mse = tf.keras.losses.MeanSquaredError()\n",
        "\n",
        "for i in range(numb_repititions):\n",
        "    model = gen_comb_model(n, d, K, L, input_dim=2)\n",
        "    model.normalise_lambdas(peak_set)\n",
        "\n",
        "    model.compile(optimizer = \"rmsprop\", loss = mse)\n",
        "\n",
        "    history2 = model.fit(x_data, y_data, epochs = arguments_passed[1], steps_per_epoch = 150,batch_size=32, validation_split = 0.1)\n",
        "\n",
        "    model_tester(model)\n",
        "    print(history2.history)\n",
        "    plt.plot(history2.history['loss'])\n",
        "    plt.plot(history2.history['val_loss'])\n",
        "    plt.show()"
      ]
    }
  ],
  "metadata": {
    "colab": {
      "collapsed_sections": [
        "PU9TRsmybQNZ"
      ],
      "provenance": []
    },
    "gpuClass": "standard",
    "kernelspec": {
      "display_name": "Python 3.8.0 ('Yash')",
      "language": "python",
      "name": "python3"
    },
    "language_info": {
      "codemirror_mode": {
        "name": "ipython",
        "version": 3
      },
      "file_extension": ".py",
      "mimetype": "text/x-python",
      "name": "python",
      "nbconvert_exporter": "python",
      "pygments_lexer": "ipython3",
      "version": "3.8.15"
    },
    "vscode": {
      "interpreter": {
        "hash": "7047b2a04d39f4ff3dfef847235bd19617c9e78ca2293a792243dedc28f602c2"
      }
    }
  },
  "nbformat": 4,
  "nbformat_minor": 0
}
